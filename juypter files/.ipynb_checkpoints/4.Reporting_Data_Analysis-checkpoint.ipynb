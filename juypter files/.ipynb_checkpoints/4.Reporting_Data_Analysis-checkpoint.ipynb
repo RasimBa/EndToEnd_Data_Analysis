{
 "cells": [
  {
   "cell_type": "markdown",
   "id": "aef8d21d-9894-4baf-a5da-61dd1f74fdfe",
   "metadata": {},
   "source": [
    "# EDA on Clean data"
   ]
  },
  {
   "cell_type": "code",
   "execution_count": 1,
   "id": "72a7be55-303c-43f9-812b-e81495c4f602",
   "metadata": {},
   "outputs": [],
   "source": [
    "import pandas as pd\n",
    "import numpy as np\n",
    "import matplotlib.pyplot as plt\n",
    "import seaborn as sns"
   ]
  },
  {
   "cell_type": "code",
   "execution_count": 2,
   "id": "32804063-15e0-4f0a-b6d0-0b2f5285afe6",
   "metadata": {},
   "outputs": [],
   "source": [
    "clean_data = pd.read_excel(\"../Inputs/leads_cleaned_data.xlsx\")"
   ]
  },
  {
   "cell_type": "markdown",
   "id": "05328f6d-e347-4e5d-adc0-ac23a21675ff",
   "metadata": {},
   "source": [
    "[Note] This dataset only contains information about the cleaned data"
   ]
  },
  {
   "cell_type": "code",
   "execution_count": 3,
   "id": "74586c1b-5269-4bf1-ac05-384aabc3db73",
   "metadata": {},
   "outputs": [
    {
     "data": {
      "text/html": [
       "<div>\n",
       "<style scoped>\n",
       "    .dataframe tbody tr th:only-of-type {\n",
       "        vertical-align: middle;\n",
       "    }\n",
       "\n",
       "    .dataframe tbody tr th {\n",
       "        vertical-align: top;\n",
       "    }\n",
       "\n",
       "    .dataframe thead th {\n",
       "        text-align: right;\n",
       "    }\n",
       "</style>\n",
       "<table border=\"1\" class=\"dataframe\">\n",
       "  <thead>\n",
       "    <tr style=\"text-align: right;\">\n",
       "      <th></th>\n",
       "      <th>firma</th>\n",
       "      <th>street</th>\n",
       "      <th>plz</th>\n",
       "      <th>city</th>\n",
       "      <th>telefon</th>\n",
       "      <th>country</th>\n",
       "      <th>country code</th>\n",
       "      <th>cleaned phone number</th>\n",
       "      <th>flag</th>\n",
       "      <th>salutation</th>\n",
       "      <th>first name</th>\n",
       "      <th>surname</th>\n",
       "      <th>digit length</th>\n",
       "      <th>firma length</th>\n",
       "      <th>unique_id</th>\n",
       "    </tr>\n",
       "  </thead>\n",
       "  <tbody>\n",
       "    <tr>\n",
       "      <th>0</th>\n",
       "      <td>Abschleppdienst Arnolds</td>\n",
       "      <td>Völlesbruchstrasse 19</td>\n",
       "      <td>52152</td>\n",
       "      <td>Simmerath</td>\n",
       "      <td>0049177-8754883</td>\n",
       "      <td>DE</td>\n",
       "      <td>49</td>\n",
       "      <td>1778754883</td>\n",
       "      <td>valid</td>\n",
       "      <td>No data</td>\n",
       "      <td>No data</td>\n",
       "      <td>No data</td>\n",
       "      <td>10</td>\n",
       "      <td>23</td>\n",
       "      <td>cleaned_1</td>\n",
       "    </tr>\n",
       "    <tr>\n",
       "      <th>1</th>\n",
       "      <td>AAS-Fink GmbH</td>\n",
       "      <td>Morsbach 39</td>\n",
       "      <td>42857</td>\n",
       "      <td>Remscheid</td>\n",
       "      <td>172.2086056</td>\n",
       "      <td>DE</td>\n",
       "      <td>49</td>\n",
       "      <td>1722086056</td>\n",
       "      <td>valid</td>\n",
       "      <td>No data</td>\n",
       "      <td>No data</td>\n",
       "      <td>No data</td>\n",
       "      <td>10</td>\n",
       "      <td>13</td>\n",
       "      <td>cleaned_2</td>\n",
       "    </tr>\n",
       "    <tr>\n",
       "      <th>2</th>\n",
       "      <td>Allfolia Deutschland GmbH</td>\n",
       "      <td>Morsbach 39</td>\n",
       "      <td>42857</td>\n",
       "      <td>Remscheid</td>\n",
       "      <td>+491734636476</td>\n",
       "      <td>DE</td>\n",
       "      <td>49</td>\n",
       "      <td>1734636476</td>\n",
       "      <td>valid</td>\n",
       "      <td>No data</td>\n",
       "      <td>No data</td>\n",
       "      <td>No data</td>\n",
       "      <td>10</td>\n",
       "      <td>25</td>\n",
       "      <td>cleaned_3</td>\n",
       "    </tr>\n",
       "    <tr>\n",
       "      <th>3</th>\n",
       "      <td>Autohaus Schmohl GmbH</td>\n",
       "      <td>Potsdamer Str. 175</td>\n",
       "      <td>14469</td>\n",
       "      <td>Potsdam</td>\n",
       "      <td>0049/160466 6050</td>\n",
       "      <td>DE</td>\n",
       "      <td>49</td>\n",
       "      <td>1604666050</td>\n",
       "      <td>valid</td>\n",
       "      <td>No data</td>\n",
       "      <td>No data</td>\n",
       "      <td>No data</td>\n",
       "      <td>10</td>\n",
       "      <td>21</td>\n",
       "      <td>cleaned_4</td>\n",
       "    </tr>\n",
       "    <tr>\n",
       "      <th>4</th>\n",
       "      <td>Autohaus Stürmeyer, Inh. Juri Düsterhoft</td>\n",
       "      <td>Hauptstraße 19</td>\n",
       "      <td>26897</td>\n",
       "      <td>Esterwegen</td>\n",
       "      <td>0049/175116 5373</td>\n",
       "      <td>DE</td>\n",
       "      <td>49</td>\n",
       "      <td>1751165373</td>\n",
       "      <td>valid</td>\n",
       "      <td>No data</td>\n",
       "      <td>No data</td>\n",
       "      <td>No data</td>\n",
       "      <td>10</td>\n",
       "      <td>40</td>\n",
       "      <td>cleaned_5</td>\n",
       "    </tr>\n",
       "  </tbody>\n",
       "</table>\n",
       "</div>"
      ],
      "text/plain": [
       "                                      firma                 street    plz  \\\n",
       "0                   Abschleppdienst Arnolds  Völlesbruchstrasse 19  52152   \n",
       "1                             AAS-Fink GmbH            Morsbach 39  42857   \n",
       "2                 Allfolia Deutschland GmbH            Morsbach 39  42857   \n",
       "3                     Autohaus Schmohl GmbH     Potsdamer Str. 175  14469   \n",
       "4  Autohaus Stürmeyer, Inh. Juri Düsterhoft         Hauptstraße 19  26897   \n",
       "\n",
       "         city           telefon country  country code  cleaned phone number  \\\n",
       "0   Simmerath   0049177-8754883      DE            49            1778754883   \n",
       "1   Remscheid       172.2086056      DE            49            1722086056   \n",
       "2   Remscheid     +491734636476      DE            49            1734636476   \n",
       "3     Potsdam  0049/160466 6050      DE            49            1604666050   \n",
       "4  Esterwegen  0049/175116 5373      DE            49            1751165373   \n",
       "\n",
       "    flag salutation first name  surname  digit length  firma length  unique_id  \n",
       "0  valid    No data    No data  No data            10            23  cleaned_1  \n",
       "1  valid    No data    No data  No data            10            13  cleaned_2  \n",
       "2  valid    No data    No data  No data            10            25  cleaned_3  \n",
       "3  valid    No data    No data  No data            10            21  cleaned_4  \n",
       "4  valid    No data    No data  No data            10            40  cleaned_5  "
      ]
     },
     "execution_count": 3,
     "metadata": {},
     "output_type": "execute_result"
    }
   ],
   "source": [
    "clean_data.head()"
   ]
  },
  {
   "cell_type": "code",
   "execution_count": 4,
   "id": "96e790a8-badc-4df7-b703-49ef10664345",
   "metadata": {},
   "outputs": [
    {
     "data": {
      "text/plain": [
       "(3722, 15)"
      ]
     },
     "execution_count": 4,
     "metadata": {},
     "output_type": "execute_result"
    }
   ],
   "source": [
    "clean_data.shape"
   ]
  },
  {
   "cell_type": "code",
   "execution_count": 5,
   "id": "2957301d-54ba-4e24-8f6f-bda8cc5bc7d1",
   "metadata": {},
   "outputs": [
    {
     "name": "stdout",
     "output_type": "stream",
     "text": [
      "<class 'pandas.core.frame.DataFrame'>\n",
      "RangeIndex: 3722 entries, 0 to 3721\n",
      "Data columns (total 15 columns):\n",
      " #   Column                Non-Null Count  Dtype \n",
      "---  ------                --------------  ----- \n",
      " 0   firma                 3722 non-null   object\n",
      " 1   street                3676 non-null   object\n",
      " 2   plz                   3696 non-null   object\n",
      " 3   city                  3675 non-null   object\n",
      " 4   telefon               3722 non-null   object\n",
      " 5   country               3722 non-null   object\n",
      " 6   country code          3722 non-null   int64 \n",
      " 7   cleaned phone number  3722 non-null   int64 \n",
      " 8   flag                  3722 non-null   object\n",
      " 9   salutation            3722 non-null   object\n",
      " 10  first name            3722 non-null   object\n",
      " 11  surname               3722 non-null   object\n",
      " 12  digit length          3722 non-null   int64 \n",
      " 13  firma length          3722 non-null   int64 \n",
      " 14  unique_id             3722 non-null   object\n",
      "dtypes: int64(4), object(11)\n",
      "memory usage: 436.3+ KB\n"
     ]
    }
   ],
   "source": [
    "clean_data.info()"
   ]
  },
  {
   "cell_type": "code",
   "execution_count": 6,
   "id": "542ff28d-9eda-4d28-b191-b89e85d7962b",
   "metadata": {},
   "outputs": [
    {
     "data": {
      "text/plain": [
       "firma                    0\n",
       "street                  46\n",
       "plz                     26\n",
       "city                    47\n",
       "telefon                  0\n",
       "country                  0\n",
       "country code             0\n",
       "cleaned phone number     0\n",
       "flag                     0\n",
       "salutation               0\n",
       "first name               0\n",
       "surname                  0\n",
       "digit length             0\n",
       "firma length             0\n",
       "unique_id                0\n",
       "dtype: int64"
      ]
     },
     "execution_count": 6,
     "metadata": {},
     "output_type": "execute_result"
    }
   ],
   "source": [
    "clean_data.isna().sum()"
   ]
  },
  {
   "cell_type": "code",
   "execution_count": 7,
   "id": "6baf99f8-ba78-4938-8402-72c080f516fc",
   "metadata": {},
   "outputs": [
    {
     "name": "stdout",
     "output_type": "stream",
     "text": [
      "firma - 0 duplicates \n",
      "street - 66 duplicates \n",
      "plz - 1246 duplicates \n",
      "city - 2024 duplicates \n",
      "telefon - 0 duplicates \n",
      "country - 3719 duplicates \n",
      "country code - 3719 duplicates \n",
      "cleaned phone number - 0 duplicates \n",
      "flag - 3721 duplicates \n",
      "salutation - 3714 duplicates \n",
      "first name - 3353 duplicates \n",
      "surname - 3363 duplicates \n",
      "digit length - 3712 duplicates \n",
      "firma length - 3635 duplicates \n",
      "unique_id - 0 duplicates \n"
     ]
    }
   ],
   "source": [
    "# creating list of all columns in the dataframe\n",
    "columns = clean_data.columns.tolist()\n",
    "\n",
    "# for each column the sum of duplicates\n",
    "for col in columns:\n",
    "    duplicates = clean_data[col].duplicated().sum()\n",
    "    print(f\"{col} - {duplicates} duplicates \")"
   ]
  },
  {
   "cell_type": "code",
   "execution_count": 8,
   "id": "b5c5b250-fa95-4607-90e2-852c35e77be0",
   "metadata": {},
   "outputs": [
    {
     "data": {
      "text/plain": [
       "18"
      ]
     },
     "execution_count": 8,
     "metadata": {},
     "output_type": "execute_result"
    }
   ],
   "source": [
    "# Filter rows where 'street', 'plz', and 'city' are all missing\n",
    "missing_data_rows = clean_data[(clean_data['street'].isna()) & \n",
    "                                 (clean_data['plz'].isna()) & \n",
    "                                 (clean_data['city'].isna())]\n",
    "\n",
    "# The number of rows where all address information is missing\n",
    "missing_data_rows.shape[0]"
   ]
  },
  {
   "cell_type": "code",
   "execution_count": 9,
   "id": "85637e31-df1a-4d23-94a4-a2d479b5d915",
   "metadata": {},
   "outputs": [
    {
     "name": "stdout",
     "output_type": "stream",
     "text": [
      "salutation    3388\n",
      "first name    3273\n",
      "surname       3348\n",
      "dtype: int64\n"
     ]
    }
   ],
   "source": [
    "# Count the occurrences of 'No data' in the 'salutation', 'first name', and 'surname' columns\n",
    "no_data_count = clean_data[['salutation', 'first name', 'surname']].isin(['No data']).sum()\n",
    "\n",
    "# Display \n",
    "print(no_data_count)"
   ]
  },
  {
   "cell_type": "code",
   "execution_count": 10,
   "id": "c75ead93-2449-4b64-aa4a-818725ffe5f6",
   "metadata": {},
   "outputs": [
    {
     "name": "stdout",
     "output_type": "stream",
     "text": [
      "  country  max_digit_length  min_digit_length  avg_digit_length\n",
      "0      AT                12                 7          9.824885\n",
      "1      CH                 9                 9          9.000000\n",
      "2      DE                15                 6         10.011713\n"
     ]
    }
   ],
   "source": [
    "# Group the data by 'country' and calculate the max, min, and average for 'digit length'\n",
    "\n",
    "digit_length_stats = clean_data.groupby('country')['digit length'].agg(\n",
    "    max_digit_length='max',\n",
    "    min_digit_length='min',\n",
    "    avg_digit_length='mean'\n",
    ").reset_index()\n",
    "\n",
    "# Display the results\n",
    "print(digit_length_stats)"
   ]
  },
  {
   "cell_type": "code",
   "execution_count": 11,
   "id": "bbeffae4-02e3-4ecf-beda-5ab80a3a7297",
   "metadata": {},
   "outputs": [],
   "source": [
    "# Count the number of leads (firmas) in each country\n",
    "\n",
    "leads_per_country = clean_data.groupby('country')['firma'].count().reset_index()\n",
    "leads_per_country.columns = ['country', 'number_of_leads']"
   ]
  },
  {
   "cell_type": "code",
   "execution_count": 12,
   "id": "64dead05-6f02-497e-afd8-2d8725b939fb",
   "metadata": {},
   "outputs": [
    {
     "data": {
      "image/png": "[encoded data removed]",
      "text/plain": [
       "<Figure size 800x400 with 1 Axes>"
      ]
     },
     "metadata": {},
     "output_type": "display_data"
    }
   ],
   "source": [
    "# Pie chart of leads by country\n",
    "plt.figure(figsize=(8, 4))\n",
    "plt.pie(leads_per_country['number_of_leads'], labels=leads_per_country['country'], autopct='%1.1f%%', startangle=155, colors=sns.color_palette('viridis'))\n",
    "\n",
    "# Add a title\n",
    "plt.title('Lead Distribution by Country', fontsize=12)\n",
    "\n",
    "# Display the chart\n",
    "plt.axis('equal')  # Equal aspect ratio ensures the pie chart is circular\n",
    "plt.show()"
   ]
  },
  {
   "cell_type": "code",
   "execution_count": 13,
   "id": "0303c45c-bcc4-4a78-a7a7-c27d2378621c",
   "metadata": {},
   "outputs": [
    {
     "data": {
      "image/png": "[encoded data removed]",
      "text/plain": [
       "<Figure size 800x400 with 1 Axes>"
      ]
     },
     "metadata": {},
     "output_type": "display_data"
    }
   ],
   "source": [
    "# Group by 'city' and 'country', and count the number of leads (firmas)\n",
    "leads_per_city = clean_data.groupby(['city', 'country'])['firma'].count().reset_index()\n",
    "\n",
    "# Sort by the number of leads and get the top 10 cities\n",
    "top_10_cities = leads_per_city.sort_values(by='firma', ascending=False).head(10)\n",
    "\n",
    "# Plotting the data\n",
    "plt.figure(figsize=(8, 4))\n",
    "sns.barplot(x='city', y='firma', hue='country', data=top_10_cities, palette='viridis')\n",
    "\n",
    "# Add labels and title\n",
    "plt.title('Top 10 Cities with the Most Leads and Related Countries', fontsize=16)\n",
    "plt.xlabel('City', fontsize=12)\n",
    "plt.ylabel('Number of Leads', fontsize=12)\n",
    "\n",
    "# Display the plot\n",
    "plt.xticks(rotation=45)  # Rotate x-axis labels for better readability\n",
    "plt.show()"
   ]
  },
  {
   "cell_type": "markdown",
   "id": "14cb6a80-a787-4699-927c-4733de2a8be6",
   "metadata": {},
   "source": [
    "### Summary\n",
    "\n",
    "The analysis of the lead data reveals that the majority of leads are concentrated in Germany, with all top 5 cities with the highest number of leads being located in the country. This suggests that lead acquisition efforts in Germany are particularly strong, or that the German market has a more significant presence in the dataset compared to other countries. The high representation of German cities may be due to various factors, such as the size and activity of the German business market, established networks, or more effective lead generation strategies in the region.\n",
    "\n",
    "### Recommendations\n",
    "\n",
    "1. **Diversify Lead Acquisition Across Other Countries**:\n",
    "   The dataset shows a clear concentration of leads in Germany. To balance this, it would be beneficial to focus on acquiring more leads from other countries and regions. Expanding lead generation efforts to new markets could help uncover untapped opportunities and enhance global business reach.\n",
    "\n",
    "2. **Focus on Improving Data Quality for Non-German Leads**:\n",
    "   Since German leads dominate the dataset, improving the data quality of non-German leads could help create a more comprehensive dataset for international markets. Ensuring completeness of critical fields, such as addresses and phone numbers for leads in other countries, will strengthen the overall dataset and improve the effectiveness of international campaigns.\n",
    "\n",
    "3. **Analyze German Market Opportunities**:\n",
    "   The significant number of leads from German cities suggests there may be considerable business potential in this region. A deeper analysis of the industries, regions, and characteristics of these leads could provide valuable insights to tailor business strategies specifically for the German market and maximize business potential in this lead-rich region.\n",
    "\n",
    "4. **Consider Cross-Region Lead Generation Campaigns**:\n",
    "   To reduce over-reliance on the German market, it would be useful to run targeted lead generation campaigns in other promising regions, such as neighboring European countries or high-potential global markets. This would not only diversify the lead dataset but also help discover new business growth opportunities in regions outside of Germany.\n",
    "   \n",
    "6. **Leverage Data Enrichment Strategies for Better Data Quality**:  \n",
    "   Enrichment strategies such as using external APIs (e.g., Google Places API) to fill missing data (e.g., phone numbers and addresses) can improve the overall quality of lead information. This is especially important for non-German leads where the data may be less complete. Consistently applying enrichment processes to ensure that the data remains up-to-date and accurate will enhance the effectiveness of lead nurturing and marketing strategies.\n",
    "\n",
    "By focusing on these areas—diversifying lead acquisition, improving data quality for non-German leads, leveraging the insights from German leads, and expanding lead generation campaigns across other regions—the dataset can become more balanced and provide valuable insights for a broader range of markets. This will support better-informed decision-making and business growth on a global scale.\n"
   ]
  }
 ],
 "metadata": {
  "kernelspec": {
   "display_name": "Python 3 (ipykernel)",
   "language": "python",
   "name": "python3"
  },
  "language_info": {
   "codemirror_mode": {
    "name": "ipython",
    "version": 3
   },
   "file_extension": ".py",
   "mimetype": "text/x-python",
   "name": "python",
   "nbconvert_exporter": "python",
   "pygments_lexer": "ipython3",
   "version": "3.11.7"
  }
 },
 "nbformat": 4,
 "nbformat_minor": 5
}
