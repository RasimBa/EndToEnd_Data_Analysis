{
 "cells": [
  {
   "cell_type": "markdown",
   "id": "598cfdef-a5cd-44fd-b92b-d5f51fc1aaf8",
   "metadata": {},
   "source": [
    "# Leads Data - Cleaning & Processing"
   ]
  },
  {
   "cell_type": "markdown",
   "id": "0eed1b36-0848-4418-9466-e8ccdab9babe",
   "metadata": {},
   "source": [
    "The dataset contains information about leads from various European countries, distributed across four separate Excel sheets. The first three sheets correspond to Germany, Austria, and Switzerland, while the fourth sheet encompasses leads from mixed countries. Each dataset primarily includes details such as leads, their addresses, zip codes, cities, countries, and telephone numbers. Although the mixed countries dataset contains additional fields for names, surnames, and salutations, a significant portion of this data is missing. Common issues within the datasets include incorrect data formatting, missing values, the presence of duplicates, and numerous uncleaned phone numbers."
   ]
  },
  {
   "cell_type": "markdown",
   "id": "56e80d09-e612-4894-bf2c-fef4052022d5",
   "metadata": {},
   "source": [
    "### Importing statements"
   ]
  },
  {
   "cell_type": "markdown",
   "id": "e9a8eeaa-2049-492c-886d-2c2ca422c124",
   "metadata": {},
   "source": [
    "<span style = \"color:red\" > [Note] If not installed,  you may have to install phonenumbers by running the command 'pip install phonenumbers' in your terminal </span>"
   ]
  },
  {
   "cell_type": "code",
   "execution_count": 1,
   "id": "90a7f65c-a1b3-4bca-a48d-c0e2863af8e5",
   "metadata": {},
   "outputs": [],
   "source": [
    "import pandas as pd\n",
    "import numpy as np\n",
    "import re\n",
    "import phonenumbers\n",
    "from phonenumbers import NumberParseException\n",
    "import warnings"
   ]
  },
  {
   "cell_type": "code",
   "execution_count": 2,
   "id": "afaddb56-e6f3-4ccf-933b-2b1ba6d928cd",
   "metadata": {},
   "outputs": [],
   "source": [
    "# Avoid warnings\n",
    "warnings.filterwarnings(\"ignore\")"
   ]
  },
  {
   "cell_type": "markdown",
   "id": "48b133c5-8907-40be-87d4-013a26860350",
   "metadata": {},
   "source": [
    "### Custom function to clean phone number"
   ]
  },
  {
   "cell_type": "code",
   "execution_count": 3,
   "id": "ff73ec39-6574-4b43-abd2-8e3f4e57db4b",
   "metadata": {},
   "outputs": [],
   "source": [
    "def clean_phone_number(row):\n",
    "    \"\"\"\n",
    "    Cleans the phone number based on the specified country, removing leading and trailing country codes and any leading zeros.\n",
    "    \n",
    "    Parameters:\n",
    "    row (pd.Series): A row from the DataFrame containing 'telefon' and 'country'.\n",
    "    \n",
    "    Returns:\n",
    "    str: The cleaned phone number without country code or leading zeros, or NaN if input is NaN.\n",
    "    \"\"\"\n",
    "    \n",
    "    phone = row['telefon']\n",
    "    country = row['country']\n",
    "    \n",
    "    # If phone number is NaN, return NaN\n",
    "    if pd.isna(phone):\n",
    "        return np.nan\n",
    "    \n",
    "    # Step 1: Remove all non-numeric characters\n",
    "    cleaned_phone = re.sub(r'\\D', '', phone)  # Remove all non-digit characters\n",
    "\n",
    "    # Country-specific country code removal\n",
    "    country_codes = {\n",
    "        'DE': ['0049', '49'],\n",
    "        'AT': ['0043', '43'],\n",
    "        'CH': ['0041', '41'],\n",
    "        'IT': ['0039', '39'],\n",
    "        'GB': ['0044', '44']\n",
    "    }\n",
    "\n",
    "    # Step 2: Remove leading or trailing country codes based on country\n",
    "    if country in country_codes:\n",
    "        for code in country_codes[country]:\n",
    "            # Remove from the start\n",
    "            if cleaned_phone.startswith(code):\n",
    "                cleaned_phone = cleaned_phone[len(code):]  # Remove the country code from the start\n",
    "                break  # Exit after removing the first found country code\n",
    "\n",
    "            # Remove from the end\n",
    "            if cleaned_phone.endswith(code):\n",
    "                cleaned_phone = cleaned_phone[:-len(code)]  # Remove the country code from the end, if the length of country code is 4 or\n",
    "                break                                       # 2, the function remove as that many characters from end\n",
    "\n",
    "    # Step 3: Remove leading zeros after country code removal\n",
    "    cleaned_phone = cleaned_phone.lstrip('0')\n",
    "\n",
    "    return cleaned_phone"
   ]
  },
  {
   "cell_type": "markdown",
   "id": "3ea1d86d-46c2-4c65-a471-983d36b7fb17",
   "metadata": {},
   "source": [
    "<span style = \"color:blue\" >Note: There are instances where country codes may appear either at the beginning or the end of phone numbers. I developed a function to effectively handle these cases after removing all non-digit characters. In this process, I did not utilize the Python \"phonenumbers\" library directly for creating clean phone number formats, as I encountered some inconsistent formats that were still considered valid by the library.</span>"
   ]
  },
  {
   "cell_type": "raw",
   "id": "ca8f7df7-fe7d-4c51-9b12-6bbbf53e8f9d",
   "metadata": {},
   "source": [
    "def validate_phone_length(row):\n",
    "    \"\"\"\n",
    "    Validates the length of the phone number based on the country.\n",
    "    \n",
    "    Parameters:\n",
    "    row (pd.Series): A row from the DataFrame containing 'cleaned phone number' and 'country'.\n",
    "    \n",
    "    Returns:\n",
    "    str: 'bad data' if the phone number is invalid, otherwise 'valid'.\n",
    "    \"\"\"\n",
    "    \n",
    "    phone_number = row['cleaned phone number']\n",
    "    country = row['country']\n",
    "    \n",
    "    # If phone number is NaN or missing, return 'bad data'\n",
    "    if pd.isna(phone_number):\n",
    "        return 'bad data'\n",
    "    \n",
    "    # Define valid phone number lengths for each country\n",
    "    valid_lengths = {\n",
    "        'DE': [10, 11],\n",
    "        'AT': [10],\n",
    "        'CH': [9],\n",
    "        'IT': [9, 10],\n",
    "        'GB': [10]\n",
    "    }\n",
    "\n",
    "    # Check if the length of the phone number is valid for the given country\n",
    "    if country in valid_lengths:\n",
    "        if len(phone_number) not in valid_lengths[country]:\n",
    "            return 'bad data'\n",
    "    \n",
    "    return 'valid'"
   ]
  },
  {
   "cell_type": "markdown",
   "id": "164bad2a-3f56-4849-abbd-831b29837f51",
   "metadata": {},
   "source": [
    "<span style=\"color:blue\">[Important] The function \"validate_phone_length\" is designed to validate phone numbers after they have been cleaned. For each country, the typical length of local phone numbers (excluding leading zeros and country codes) has been predefined. Once the phone numbers are cleaned, this function checks each number's digit length and updates the \"flag\" column accordingly, indicating \"valid\" or \"bad data.\" For example, if a cleaned German phone number has 12 digits, the flag will be set to \"bad data,\" as standard German phone numbers typically have 10 to 11 digits.</span>\n",
    "<br>\n",
    "\n",
    "<span style=\"color:blue\">However, the function remains in its raw form to allow for execution if desired. Validation using Python's \"phonenumbers\" library may yield different results, as it accounts for certain exceptions (e.g., some 15-digit numbers can be considered valid). For a more stringent cleaning approach, the self-written function can be applied. In this case, validation is primarily carried out using \"phonenumbers\".</span>"
   ]
  },
  {
   "cell_type": "markdown",
   "id": "aaaf2e32-0333-48a1-b1b8-ab990e733c18",
   "metadata": {},
   "source": [
    "### Function to Validate Cleaned Phone Numbers using \"phonenumbers\""
   ]
  },
  {
   "cell_type": "code",
   "execution_count": 4,
   "id": "3b0c8073-9b06-43a4-aa5a-f13ab0322598",
   "metadata": {},
   "outputs": [],
   "source": [
    "def validate_phone_number(row):\n",
    "    \"\"\"\n",
    "    Validates the phone number using the phonenumbers library based on the country.\n",
    "    \n",
    "    Parameters:\n",
    "    row (pd.Series): A row from the DataFrame containing 'cleaned phone number' and 'country'.\n",
    "    \n",
    "    Returns:\n",
    "    str: 'bad data' if the phone number is invalid, otherwise 'valid'.\n",
    "    \"\"\"\n",
    "    \n",
    "    phone_number = row['cleaned phone number']\n",
    "    country = row['country']\n",
    "    \n",
    "    # If phone number is NaN or missing, return 'bad data'\n",
    "    if pd.isna(phone_number):\n",
    "        return 'bad data'\n",
    "    \n",
    "    try:\n",
    "        # Parse the phone number using phonenumbers\n",
    "        parsed_number = phonenumbers.parse(phone_number, country)\n",
    "        \n",
    "        # Check if the phone number is valid for the given country\n",
    "        if phonenumbers.is_valid_number(parsed_number):\n",
    "            return 'valid'\n",
    "        else:\n",
    "            return 'bad data'\n",
    "    \n",
    "    except phonenumbers.NumberParseException:\n",
    "        # Handle cases where the number cannot be parsed\n",
    "        return 'bad data'"
   ]
  },
  {
   "cell_type": "markdown",
   "id": "0332ff58-7cea-4918-808a-3cd06849b737",
   "metadata": {},
   "source": [
    "<span style = \"color:blue\" >[Note] The function above is applied to the \"flag\" column </span>"
   ]
  },
  {
   "cell_type": "code",
   "execution_count": 5,
   "id": "1105df83-2d47-42c9-803d-e103b43dde0e",
   "metadata": {},
   "outputs": [],
   "source": [
    "# Disable scientific notation globally in pandas\n",
    "pd.set_option('display.float_format', lambda x: '%.0f' % x)"
   ]
  },
  {
   "cell_type": "markdown",
   "id": "9ffe402c-e79c-4c90-8e62-219d21317481",
   "metadata": {},
   "source": [
    "<span style = \"color:red;\" >[Note] In the mixed countries sheet, in the 'telefonnr' column, the values are in scientific notation format. </span>"
   ]
  },
  {
   "cell_type": "markdown",
   "id": "bf80d45d-2ada-4771-9ce0-e9145fa6b125",
   "metadata": {},
   "source": [
    "### Reading Datasets"
   ]
  },
  {
   "cell_type": "code",
   "execution_count": 6,
   "id": "63cf79fa-353d-4bc5-8ee6-45f0f7bef694",
   "metadata": {},
   "outputs": [],
   "source": [
    "# file path based on  directory structure\n",
    "data_path = '../Inputs/data cleanup assignment.xlsx'"
   ]
  },
  {
   "cell_type": "code",
   "execution_count": 7,
   "id": "3bc7a1e7-c8ef-4ea3-b5eb-29209977214c",
   "metadata": {},
   "outputs": [],
   "source": [
    "sheets = [\"DE\", \"AT\", \"CH\", \"mixed\"]\n",
    "dataframes = {}\n",
    "\n",
    "for name in sheets:\n",
    "    df = pd.read_excel(\n",
    "        data_path,\n",
    "        sheet_name=name,\n",
    "        dtype=str,                # Convert all columns to strings\n",
    "        na_filter=True            # Convert empty strings to NaN\n",
    "    )\n",
    "\n",
    "    # Remove trailing \".0\" from strings while preserving NaN, and handle empty/whitespace strings\n",
    "    \n",
    "    # 1. If the value is a string and is empty or contains only whitespace, it is replaced with NaN.\n",
    "    # 2. If the value is a string and ends with '.0', the '.0' suffix is removed.\n",
    "    # 3. If neither condition is met, the original value is retained.\n",
    "    dataframes[name] = df.applymap(lambda x: np.nan if isinstance(x, str) and x.strip() == '' else (x.rstrip('.0') if isinstance(x, str) and '.0' in x else x))\n",
    "\n",
    "\n",
    "# Access each DataFrame by its sheet name\n",
    "data_de = dataframes[\"DE\"]\n",
    "data_at = dataframes[\"AT\"]\n",
    "data_ch = dataframes[\"CH\"]\n",
    "data_mix = dataframes[\"mixed\"]\n"
   ]
  },
  {
   "cell_type": "markdown",
   "id": "c3a9c644-2d3b-4ace-8638-0d83e730539d",
   "metadata": {},
   "source": [
    "**First We will look at each dataset seperately, in order to have an overview, and to make small adjustments before merging them.**"
   ]
  },
  {
   "cell_type": "markdown",
   "id": "f42e00ec-55ff-4f94-9f9e-d508b1e1f50c",
   "metadata": {},
   "source": [
    "## 1. Data for Germany"
   ]
  },
  {
   "cell_type": "code",
   "execution_count": 8,
   "id": "43a9df62-7b09-4b4c-a38c-7ea8a2414544",
   "metadata": {},
   "outputs": [
    {
     "data": {
      "text/html": [
       "<div>\n",
       "<style scoped>\n",
       "    .dataframe tbody tr th:only-of-type {\n",
       "        vertical-align: middle;\n",
       "    }\n",
       "\n",
       "    .dataframe tbody tr th {\n",
       "        vertical-align: top;\n",
       "    }\n",
       "\n",
       "    .dataframe thead th {\n",
       "        text-align: right;\n",
       "    }\n",
       "</style>\n",
       "<table border=\"1\" class=\"dataframe\">\n",
       "  <thead>\n",
       "    <tr style=\"text-align: right;\">\n",
       "      <th></th>\n",
       "      <th>firma</th>\n",
       "      <th>street</th>\n",
       "      <th>plz</th>\n",
       "      <th>city</th>\n",
       "      <th>old_ctry</th>\n",
       "      <th>telefon</th>\n",
       "    </tr>\n",
       "  </thead>\n",
       "  <tbody>\n",
       "    <tr>\n",
       "      <th>270</th>\n",
       "      <td>Salzstangerlheuriger</td>\n",
       "      <td>Badener Straße 11</td>\n",
       "      <td>2544</td>\n",
       "      <td>Leobersdorf</td>\n",
       "      <td>DE</td>\n",
       "      <td>+49174-6599330</td>\n",
       "    </tr>\n",
       "    <tr>\n",
       "      <th>709</th>\n",
       "      <td>Bohlen Elektrowärme, Inh. Stefan Urbanek</td>\n",
       "      <td>Freiberger Straße 55</td>\n",
       "      <td>9669</td>\n",
       "      <td>Frankenberg</td>\n",
       "      <td>DE</td>\n",
       "      <td>9/5405657</td>\n",
       "    </tr>\n",
       "    <tr>\n",
       "      <th>860</th>\n",
       "      <td>WERBUNG aktuell</td>\n",
       "      <td>Dessauer Straße 6a</td>\n",
       "      <td>6886</td>\n",
       "      <td>Lutherstadt Wittenberg</td>\n",
       "      <td>DE</td>\n",
       "      <td>+49175abc2494-023</td>\n",
       "    </tr>\n",
       "    <tr>\n",
       "      <th>11</th>\n",
       "      <td>König Wilhelm Autoteile - Einbrodt &amp; Schubert GbR</td>\n",
       "      <td>Dahlweg 122</td>\n",
       "      <td>48153</td>\n",
       "      <td>Münster</td>\n",
       "      <td>DE</td>\n",
       "      <td>00491600795434</td>\n",
       "    </tr>\n",
       "    <tr>\n",
       "      <th>134</th>\n",
       "      <td>Prenzl´berger Friseure</td>\n",
       "      <td>Stubbenkammerstraße 4</td>\n",
       "      <td>10437</td>\n",
       "      <td>Berlin</td>\n",
       "      <td>DE</td>\n",
       "      <td>00491773478809</td>\n",
       "    </tr>\n",
       "    <tr>\n",
       "      <th>514</th>\n",
       "      <td>Bäckerei und Café Reif, Inhaber: Jürgen Reif</td>\n",
       "      <td>Bärwalder Straße 9</td>\n",
       "      <td>1471</td>\n",
       "      <td>Radeburg</td>\n",
       "      <td>DE</td>\n",
       "      <td>+491780760340</td>\n",
       "    </tr>\n",
       "    <tr>\n",
       "      <th>345</th>\n",
       "      <td>Praxis für Ergotherapie Kathrin Kenzler</td>\n",
       "      <td>Am Margaretenhof 26</td>\n",
       "      <td>19057</td>\n",
       "      <td>Schwerin</td>\n",
       "      <td>DE</td>\n",
       "      <td>0049176-3343742</td>\n",
       "    </tr>\n",
       "  </tbody>\n",
       "</table>\n",
       "</div>"
      ],
      "text/plain": [
       "                                                 firma                 street  \\\n",
       "270                               Salzstangerlheuriger      Badener Straße 11   \n",
       "709           Bohlen Elektrowärme, Inh. Stefan Urbanek   Freiberger Straße 55   \n",
       "860                                    WERBUNG aktuell     Dessauer Straße 6a   \n",
       "11   König Wilhelm Autoteile - Einbrodt & Schubert GbR            Dahlweg 122   \n",
       "134                             Prenzl´berger Friseure  Stubbenkammerstraße 4   \n",
       "514       Bäckerei und Café Reif, Inhaber: Jürgen Reif     Bärwalder Straße 9   \n",
       "345            Praxis für Ergotherapie Kathrin Kenzler    Am Margaretenhof 26   \n",
       "\n",
       "       plz                    city old_ctry            telefon  \n",
       "270   2544             Leobersdorf       DE     +49174-6599330  \n",
       "709   9669             Frankenberg       DE          9/5405657  \n",
       "860   6886  Lutherstadt Wittenberg       DE  +49175abc2494-023  \n",
       "11   48153                 Münster       DE     00491600795434  \n",
       "134  10437                  Berlin       DE     00491773478809  \n",
       "514   1471                Radeburg       DE      +491780760340  \n",
       "345  19057                Schwerin       DE    0049176-3343742  "
      ]
     },
     "execution_count": 8,
     "metadata": {},
     "output_type": "execute_result"
    }
   ],
   "source": [
    "data_de.sample(7, random_state = 43)"
   ]
  },
  {
   "cell_type": "code",
   "execution_count": 9,
   "id": "7f6789fe-ae2c-48f8-b95b-1ccd7863e744",
   "metadata": {},
   "outputs": [
    {
     "data": {
      "text/plain": [
       "(865, 6)"
      ]
     },
     "execution_count": 9,
     "metadata": {},
     "output_type": "execute_result"
    }
   ],
   "source": [
    "data_de.shape"
   ]
  },
  {
   "cell_type": "code",
   "execution_count": 10,
   "id": "a0730a1d-4cb1-4d08-b714-afb3189719f3",
   "metadata": {},
   "outputs": [
    {
     "name": "stdout",
     "output_type": "stream",
     "text": [
      "<class 'pandas.core.frame.DataFrame'>\n",
      "RangeIndex: 865 entries, 0 to 864\n",
      "Data columns (total 6 columns):\n",
      " #   Column    Non-Null Count  Dtype \n",
      "---  ------    --------------  ----- \n",
      " 0   firma     865 non-null    object\n",
      " 1   street    865 non-null    object\n",
      " 2   plz       865 non-null    object\n",
      " 3   city      865 non-null    object\n",
      " 4   old_ctry  865 non-null    object\n",
      " 5   telefon   865 non-null    object\n",
      "dtypes: object(6)\n",
      "memory usage: 40.7+ KB\n"
     ]
    }
   ],
   "source": [
    "data_de.info()"
   ]
  },
  {
   "cell_type": "code",
   "execution_count": 11,
   "id": "ade48e80-421d-4583-8986-53e1efc4dad9",
   "metadata": {},
   "outputs": [
    {
     "data": {
      "text/plain": [
       "firma       0\n",
       "street      0\n",
       "plz         0\n",
       "city        0\n",
       "old_ctry    0\n",
       "telefon     0\n",
       "dtype: int64"
      ]
     },
     "execution_count": 11,
     "metadata": {},
     "output_type": "execute_result"
    }
   ],
   "source": [
    "data_de.isna().sum()"
   ]
  },
  {
   "cell_type": "code",
   "execution_count": 12,
   "id": "8d112e00-741a-487f-a1b0-135ee386d2ca",
   "metadata": {},
   "outputs": [],
   "source": [
    "# Changing the column 'old_ctry' name to match the data in other dataframes\n",
    "data_de.rename(columns = {'old_ctry':'country'}, inplace = True)"
   ]
  },
  {
   "cell_type": "code",
   "execution_count": 13,
   "id": "8cb1e4d1-24e5-4057-8566-8828b9e0ad33",
   "metadata": {},
   "outputs": [
    {
     "data": {
      "text/plain": [
       "country\n",
       "DE    865\n",
       "Name: count, dtype: int64"
      ]
     },
     "execution_count": 13,
     "metadata": {},
     "output_type": "execute_result"
    }
   ],
   "source": [
    "# Checking whether there is other countries as well\n",
    "data_de['country'].value_counts()"
   ]
  },
  {
   "cell_type": "markdown",
   "id": "62fbe8aa-5e94-4ec7-961d-172ff82777aa",
   "metadata": {},
   "source": [
    "## 2. Data for Austria "
   ]
  },
  {
   "cell_type": "code",
   "execution_count": 14,
   "id": "26b25f24-95f2-452b-b98c-a806feaa79eb",
   "metadata": {},
   "outputs": [
    {
     "data": {
      "text/html": [
       "<div>\n",
       "<style scoped>\n",
       "    .dataframe tbody tr th:only-of-type {\n",
       "        vertical-align: middle;\n",
       "    }\n",
       "\n",
       "    .dataframe tbody tr th {\n",
       "        vertical-align: top;\n",
       "    }\n",
       "\n",
       "    .dataframe thead th {\n",
       "        text-align: right;\n",
       "    }\n",
       "</style>\n",
       "<table border=\"1\" class=\"dataframe\">\n",
       "  <thead>\n",
       "    <tr style=\"text-align: right;\">\n",
       "      <th></th>\n",
       "      <th>firma</th>\n",
       "      <th>street</th>\n",
       "      <th>plz</th>\n",
       "      <th>city</th>\n",
       "      <th>country</th>\n",
       "      <th>telefon</th>\n",
       "    </tr>\n",
       "  </thead>\n",
       "  <tbody>\n",
       "    <tr>\n",
       "      <th>56</th>\n",
       "      <td>Niedermayer Steuerberatung GmbH</td>\n",
       "      <td>Passauer Straße 13</td>\n",
       "      <td>4780</td>\n",
       "      <td>Schärding</td>\n",
       "      <td>AT</td>\n",
       "      <td>Für Hilfe, wählen Sie: +ZZ66-ERROR 676 1911048</td>\n",
       "    </tr>\n",
       "    <tr>\n",
       "      <th>37</th>\n",
       "      <td>Almrausch Planai</td>\n",
       "      <td>Planaistraße 2</td>\n",
       "      <td>8971</td>\n",
       "      <td>Schladming</td>\n",
       "      <td>AT</td>\n",
       "      <td>Telefon: 00 914 CALL 3938 / 676</td>\n",
       "    </tr>\n",
       "    <tr>\n",
       "      <th>67</th>\n",
       "      <td>VIDEBIS GmbH</td>\n",
       "      <td>Schlosshofer Straße 6</td>\n",
       "      <td>1210</td>\n",
       "      <td>Wien</td>\n",
       "      <td>AT</td>\n",
       "      <td>664.2502286</td>\n",
       "    </tr>\n",
       "    <tr>\n",
       "      <th>79</th>\n",
       "      <td>Naturpraxis Inge Nedved-Kempf</td>\n",
       "      <td>Königsklostergasse 7/3 Mezzanin</td>\n",
       "      <td>1060</td>\n",
       "      <td>Wien</td>\n",
       "      <td>AT</td>\n",
       "      <td>0043/650545 8500</td>\n",
       "    </tr>\n",
       "    <tr>\n",
       "      <th>80</th>\n",
       "      <td>Orthopädie Schuhtechnik Nindl GmbH</td>\n",
       "      <td>Kirchenstraße 36</td>\n",
       "      <td>5733</td>\n",
       "      <td>Bramberg am Wildkogel</td>\n",
       "      <td>AT</td>\n",
       "      <td>NaN</td>\n",
       "    </tr>\n",
       "    <tr>\n",
       "      <th>188</th>\n",
       "      <td>Weinschloss Koarl Thaller GmbH</td>\n",
       "      <td>Maierhofbergen 24</td>\n",
       "      <td>8263</td>\n",
       "      <td>Großwilfersdorf</td>\n",
       "      <td>AT</td>\n",
       "      <td>+43/676217 5111</td>\n",
       "    </tr>\n",
       "    <tr>\n",
       "      <th>183</th>\n",
       "      <td>Buschenschank Luttenberger</td>\n",
       "      <td>Seibersdorf 20</td>\n",
       "      <td>8423</td>\n",
       "      <td>St. Veit in der Südsteiermark</td>\n",
       "      <td>AT</td>\n",
       "      <td>NaN</td>\n",
       "    </tr>\n",
       "  </tbody>\n",
       "</table>\n",
       "</div>"
      ],
      "text/plain": [
       "                                  firma                           street  \\\n",
       "56      Niedermayer Steuerberatung GmbH               Passauer Straße 13   \n",
       "37                     Almrausch Planai                   Planaistraße 2   \n",
       "67                         VIDEBIS GmbH            Schlosshofer Straße 6   \n",
       "79        Naturpraxis Inge Nedved-Kempf  Königsklostergasse 7/3 Mezzanin   \n",
       "80   Orthopädie Schuhtechnik Nindl GmbH                 Kirchenstraße 36   \n",
       "188      Weinschloss Koarl Thaller GmbH                Maierhofbergen 24   \n",
       "183          Buschenschank Luttenberger                   Seibersdorf 20   \n",
       "\n",
       "      plz                           city country  \\\n",
       "56   4780                      Schärding      AT   \n",
       "37   8971                     Schladming      AT   \n",
       "67   1210                           Wien      AT   \n",
       "79   1060                           Wien      AT   \n",
       "80   5733          Bramberg am Wildkogel      AT   \n",
       "188  8263                Großwilfersdorf      AT   \n",
       "183  8423  St. Veit in der Südsteiermark      AT   \n",
       "\n",
       "                                            telefon  \n",
       "56   Für Hilfe, wählen Sie: +ZZ66-ERROR 676 1911048  \n",
       "37                  Telefon: 00 914 CALL 3938 / 676  \n",
       "67                                      664.2502286  \n",
       "79                                 0043/650545 8500  \n",
       "80                                              NaN  \n",
       "188                                 +43/676217 5111  \n",
       "183                                             NaN  "
      ]
     },
     "execution_count": 14,
     "metadata": {},
     "output_type": "execute_result"
    }
   ],
   "source": [
    "data_at.sample(7, random_state = 43)"
   ]
  },
  {
   "cell_type": "code",
   "execution_count": 15,
   "id": "8b6307bb-3ab1-44a9-b291-f048b1eea575",
   "metadata": {},
   "outputs": [
    {
     "data": {
      "text/plain": [
       "(200, 6)"
      ]
     },
     "execution_count": 15,
     "metadata": {},
     "output_type": "execute_result"
    }
   ],
   "source": [
    "data_at.shape"
   ]
  },
  {
   "cell_type": "code",
   "execution_count": 16,
   "id": "e0857fba-2569-4cab-9cfa-d203a84c4741",
   "metadata": {},
   "outputs": [
    {
     "name": "stdout",
     "output_type": "stream",
     "text": [
      "<class 'pandas.core.frame.DataFrame'>\n",
      "RangeIndex: 200 entries, 0 to 199\n",
      "Data columns (total 6 columns):\n",
      " #   Column   Non-Null Count  Dtype \n",
      "---  ------   --------------  ----- \n",
      " 0   firma    200 non-null    object\n",
      " 1   street   200 non-null    object\n",
      " 2   plz      200 non-null    object\n",
      " 3   city     200 non-null    object\n",
      " 4   country  200 non-null    object\n",
      " 5   telefon  189 non-null    object\n",
      "dtypes: object(6)\n",
      "memory usage: 9.5+ KB\n"
     ]
    }
   ],
   "source": [
    "data_at.info()"
   ]
  },
  {
   "cell_type": "code",
   "execution_count": 17,
   "id": "95582ad0-586b-4cba-872a-0cec55388935",
   "metadata": {},
   "outputs": [
    {
     "data": {
      "text/plain": [
       "firma       0\n",
       "street      0\n",
       "plz         0\n",
       "city        0\n",
       "country     0\n",
       "telefon    11\n",
       "dtype: int64"
      ]
     },
     "execution_count": 17,
     "metadata": {},
     "output_type": "execute_result"
    }
   ],
   "source": [
    "data_at.isna().sum()"
   ]
  },
  {
   "cell_type": "code",
   "execution_count": 18,
   "id": "0d881ae9-c87b-437a-8f63-6c2c381918b0",
   "metadata": {},
   "outputs": [
    {
     "data": {
      "text/plain": [
       "country\n",
       "AT    200\n",
       "Name: count, dtype: int64"
      ]
     },
     "execution_count": 18,
     "metadata": {},
     "output_type": "execute_result"
    }
   ],
   "source": [
    "# checking whether there is other countries as well\n",
    "data_at['country'].value_counts()"
   ]
  },
  {
   "cell_type": "markdown",
   "id": "fc9a6b43-1c16-4bc6-ae7e-904b496eedd1",
   "metadata": {},
   "source": [
    "## 3. Data for Switzerland"
   ]
  },
  {
   "cell_type": "code",
   "execution_count": 19,
   "id": "9509c9e1-8f1e-4b75-8c39-67630b44f357",
   "metadata": {},
   "outputs": [
    {
     "data": {
      "text/html": [
       "<div>\n",
       "<style scoped>\n",
       "    .dataframe tbody tr th:only-of-type {\n",
       "        vertical-align: middle;\n",
       "    }\n",
       "\n",
       "    .dataframe tbody tr th {\n",
       "        vertical-align: top;\n",
       "    }\n",
       "\n",
       "    .dataframe thead th {\n",
       "        text-align: right;\n",
       "    }\n",
       "</style>\n",
       "<table border=\"1\" class=\"dataframe\">\n",
       "  <thead>\n",
       "    <tr style=\"text-align: right;\">\n",
       "      <th></th>\n",
       "      <th>firma</th>\n",
       "      <th>street</th>\n",
       "      <th>plz</th>\n",
       "      <th>city</th>\n",
       "      <th>country</th>\n",
       "      <th>telefon</th>\n",
       "    </tr>\n",
       "  </thead>\n",
       "  <tbody>\n",
       "    <tr>\n",
       "      <th>2</th>\n",
       "      <td>Nocera &amp; Strub AG</td>\n",
       "      <td>Hirzenstrasse 1</td>\n",
       "      <td>9244</td>\n",
       "      <td>Niederuzwil</td>\n",
       "      <td>CH</td>\n",
       "      <td>Telefon: 00 037 CALL 9506 / 79</td>\n",
       "    </tr>\n",
       "    <tr>\n",
       "      <th>62</th>\n",
       "      <td>Imfeld Uhren + Schmuck GmbH</td>\n",
       "      <td>Hofstrasse 2</td>\n",
       "      <td>6061</td>\n",
       "      <td>Sarnen</td>\n",
       "      <td>CH</td>\n",
       "      <td>+41783764144</td>\n",
       "    </tr>\n",
       "    <tr>\n",
       "      <th>78</th>\n",
       "      <td>Benediktinerkloster Mariastein</td>\n",
       "      <td>Klosterplatz 2</td>\n",
       "      <td>4115</td>\n",
       "      <td>Mariastein</td>\n",
       "      <td>CH</td>\n",
       "      <td>Telefon: 00 954 CALL 8410 / 79</td>\n",
       "    </tr>\n",
       "    <tr>\n",
       "      <th>15</th>\n",
       "      <td>ECOTENT Flümoart</td>\n",
       "      <td>Seetalstrasse 72</td>\n",
       "      <td>8280</td>\n",
       "      <td>Kreutzlingen TG</td>\n",
       "      <td>CH</td>\n",
       "      <td>/78/3585206</td>\n",
       "    </tr>\n",
       "    <tr>\n",
       "      <th>11</th>\n",
       "      <td>Tierferienheim Höfli</td>\n",
       "      <td>Höfli 66</td>\n",
       "      <td>4574</td>\n",
       "      <td>Nennigkofen</td>\n",
       "      <td>CH</td>\n",
       "      <td>0041/79688 5332</td>\n",
       "    </tr>\n",
       "    <tr>\n",
       "      <th>45</th>\n",
       "      <td>Prinzli Spielwaren, Inh.: Doris Kälin</td>\n",
       "      <td>Bergstrasse 1</td>\n",
       "      <td>8712</td>\n",
       "      <td>Stäfa</td>\n",
       "      <td>CH</td>\n",
       "      <td>0041/906 6268</td>\n",
       "    </tr>\n",
       "    <tr>\n",
       "      <th>63</th>\n",
       "      <td>Go Fish GmbH Fischerei- &amp; Outdoorartikel</td>\n",
       "      <td>Hinterbergstrasse 56</td>\n",
       "      <td>6312</td>\n",
       "      <td>Steinhausen</td>\n",
       "      <td>CH</td>\n",
       "      <td>+4176abc7352-651</td>\n",
       "    </tr>\n",
       "  </tbody>\n",
       "</table>\n",
       "</div>"
      ],
      "text/plain": [
       "                                       firma                street   plz  \\\n",
       "2                          Nocera & Strub AG       Hirzenstrasse 1  9244   \n",
       "62               Imfeld Uhren + Schmuck GmbH          Hofstrasse 2  6061   \n",
       "78            Benediktinerkloster Mariastein        Klosterplatz 2  4115   \n",
       "15                          ECOTENT Flümoart      Seetalstrasse 72  8280   \n",
       "11                      Tierferienheim Höfli              Höfli 66  4574   \n",
       "45     Prinzli Spielwaren, Inh.: Doris Kälin         Bergstrasse 1  8712   \n",
       "63  Go Fish GmbH Fischerei- & Outdoorartikel  Hinterbergstrasse 56  6312   \n",
       "\n",
       "               city country                         telefon  \n",
       "2       Niederuzwil      CH  Telefon: 00 037 CALL 9506 / 79  \n",
       "62           Sarnen      CH                    +41783764144  \n",
       "78       Mariastein      CH  Telefon: 00 954 CALL 8410 / 79  \n",
       "15  Kreutzlingen TG      CH                     /78/3585206  \n",
       "11      Nennigkofen      CH                 0041/79688 5332  \n",
       "45            Stäfa      CH                   0041/906 6268  \n",
       "63      Steinhausen      CH                +4176abc7352-651  "
      ]
     },
     "execution_count": 19,
     "metadata": {},
     "output_type": "execute_result"
    }
   ],
   "source": [
    "data_ch.sample(7, random_state = 43)"
   ]
  },
  {
   "cell_type": "code",
   "execution_count": 20,
   "id": "1b9f03d6-a4e7-4bd9-981e-f015160d675d",
   "metadata": {},
   "outputs": [
    {
     "data": {
      "text/plain": [
       "(92, 6)"
      ]
     },
     "execution_count": 20,
     "metadata": {},
     "output_type": "execute_result"
    }
   ],
   "source": [
    "data_ch.shape"
   ]
  },
  {
   "cell_type": "code",
   "execution_count": 21,
   "id": "05c97e0a-3030-4778-b34f-57c1888116a1",
   "metadata": {},
   "outputs": [
    {
     "name": "stdout",
     "output_type": "stream",
     "text": [
      "<class 'pandas.core.frame.DataFrame'>\n",
      "RangeIndex: 92 entries, 0 to 91\n",
      "Data columns (total 6 columns):\n",
      " #   Column   Non-Null Count  Dtype \n",
      "---  ------   --------------  ----- \n",
      " 0   firma    92 non-null     object\n",
      " 1   street   92 non-null     object\n",
      " 2   plz      92 non-null     object\n",
      " 3   city     92 non-null     object\n",
      " 4   country  92 non-null     object\n",
      " 5   telefon  85 non-null     object\n",
      "dtypes: object(6)\n",
      "memory usage: 4.4+ KB\n"
     ]
    }
   ],
   "source": [
    "data_ch.info()"
   ]
  },
  {
   "cell_type": "code",
   "execution_count": 22,
   "id": "afa2b94a-1874-4012-b80d-ca65c68fe309",
   "metadata": {},
   "outputs": [
    {
     "data": {
      "text/plain": [
       "firma      0\n",
       "street     0\n",
       "plz        0\n",
       "city       0\n",
       "country    0\n",
       "telefon    7\n",
       "dtype: int64"
      ]
     },
     "execution_count": 22,
     "metadata": {},
     "output_type": "execute_result"
    }
   ],
   "source": [
    "data_ch.isna().sum()"
   ]
  },
  {
   "cell_type": "code",
   "execution_count": 23,
   "id": "cb7b243e-6b8f-4c94-b557-a3d8148489ed",
   "metadata": {},
   "outputs": [
    {
     "data": {
      "text/plain": [
       "country\n",
       "CH    92\n",
       "Name: count, dtype: int64"
      ]
     },
     "execution_count": 23,
     "metadata": {},
     "output_type": "execute_result"
    }
   ],
   "source": [
    "# Checking whether there is other countries as well\n",
    "data_ch['country'].value_counts()"
   ]
  },
  {
   "cell_type": "markdown",
   "id": "cfece82e-8b75-4b69-b274-758f676a19a0",
   "metadata": {},
   "source": [
    "## 4. Data Mixed Countries"
   ]
  },
  {
   "cell_type": "code",
   "execution_count": 24,
   "id": "85c59ed5-7257-4a10-aefc-223fb8fb131f",
   "metadata": {},
   "outputs": [
    {
     "data": {
      "text/html": [
       "<div>\n",
       "<style scoped>\n",
       "    .dataframe tbody tr th:only-of-type {\n",
       "        vertical-align: middle;\n",
       "    }\n",
       "\n",
       "    .dataframe tbody tr th {\n",
       "        vertical-align: top;\n",
       "    }\n",
       "\n",
       "    .dataframe thead th {\n",
       "        text-align: right;\n",
       "    }\n",
       "</style>\n",
       "<table border=\"1\" class=\"dataframe\">\n",
       "  <thead>\n",
       "    <tr style=\"text-align: right;\">\n",
       "      <th></th>\n",
       "      <th>firma</th>\n",
       "      <th>street</th>\n",
       "      <th>plz</th>\n",
       "      <th>city</th>\n",
       "      <th>landesvorwahl</th>\n",
       "      <th>telefonnr</th>\n",
       "      <th>anrede</th>\n",
       "      <th>vorname</th>\n",
       "      <th>nachname</th>\n",
       "    </tr>\n",
       "  </thead>\n",
       "  <tbody>\n",
       "    <tr>\n",
       "      <th>1334</th>\n",
       "      <td>Khorasan Market ( خراسان مارکت )</td>\n",
       "      <td>Marienstraße 9</td>\n",
       "      <td>33098</td>\n",
       "      <td>Paderborn</td>\n",
       "      <td>49</td>\n",
       "      <td>17670975872</td>\n",
       "      <td>NaN</td>\n",
       "      <td>NaN</td>\n",
       "      <td>NaN</td>\n",
       "    </tr>\n",
       "    <tr>\n",
       "      <th>2304</th>\n",
       "      <td>Pizza Star Inh.: Nilofar Wali</td>\n",
       "      <td>Detmolder Str. 74</td>\n",
       "      <td>33100</td>\n",
       "      <td>Paderborn</td>\n",
       "      <td>49</td>\n",
       "      <td>52511438283</td>\n",
       "      <td>NaN</td>\n",
       "      <td>NaN</td>\n",
       "      <td>NaN</td>\n",
       "    </tr>\n",
       "    <tr>\n",
       "      <th>465</th>\n",
       "      <td>Haus Gabriele</td>\n",
       "      <td>Silge 26</td>\n",
       "      <td>36433</td>\n",
       "      <td>Bad Salzungen</td>\n",
       "      <td>49</td>\n",
       "      <td>3695853779</td>\n",
       "      <td>NaN</td>\n",
       "      <td>NaN</td>\n",
       "      <td>NaN</td>\n",
       "    </tr>\n",
       "    <tr>\n",
       "      <th>667</th>\n",
       "      <td>Hotel Luzern Engel</td>\n",
       "      <td>Luzernerstrasse 1</td>\n",
       "      <td>6285</td>\n",
       "      <td>Hitzkirch</td>\n",
       "      <td>41</td>\n",
       "      <td>419112050</td>\n",
       "      <td>NaN</td>\n",
       "      <td>NaN</td>\n",
       "      <td>NaN</td>\n",
       "    </tr>\n",
       "    <tr>\n",
       "      <th>3582</th>\n",
       "      <td>AL HAMDO GmbH</td>\n",
       "      <td>Martin-Luther-King-Str. 2</td>\n",
       "      <td>63452</td>\n",
       "      <td>Hanau</td>\n",
       "      <td>49</td>\n",
       "      <td>1628504560</td>\n",
       "      <td>Herr</td>\n",
       "      <td>Abdul</td>\n",
       "      <td>Kader Al Hamdo</td>\n",
       "    </tr>\n",
       "    <tr>\n",
       "      <th>1895</th>\n",
       "      <td>Begemann Wellness Fitness Center</td>\n",
       "      <td>NaN</td>\n",
       "      <td>NaN</td>\n",
       "      <td>Extertal</td>\n",
       "      <td>49</td>\n",
       "      <td>5262993325</td>\n",
       "      <td>NaN</td>\n",
       "      <td>NaN</td>\n",
       "      <td>NaN</td>\n",
       "    </tr>\n",
       "    <tr>\n",
       "      <th>2860</th>\n",
       "      <td>ERGO Versicherung Christian Aner</td>\n",
       "      <td>Normannenstraße 3</td>\n",
       "      <td>10367</td>\n",
       "      <td>Berlin</td>\n",
       "      <td>49</td>\n",
       "      <td>3030343411</td>\n",
       "      <td>NaN</td>\n",
       "      <td>NaN</td>\n",
       "      <td>NaN</td>\n",
       "    </tr>\n",
       "  </tbody>\n",
       "</table>\n",
       "</div>"
      ],
      "text/plain": [
       "                                 firma                      street    plz  \\\n",
       "1334  Khorasan Market ( خراسان مارکت )              Marienstraße 9  33098   \n",
       "2304     Pizza Star Inh.: Nilofar Wali          Detmolder Str. 74   33100   \n",
       "465                      Haus Gabriele                    Silge 26  36433   \n",
       "667                 Hotel Luzern Engel           Luzernerstrasse 1   6285   \n",
       "3582                     AL HAMDO GmbH  Martin-Luther-King-Str. 2   63452   \n",
       "1895  Begemann Wellness Fitness Center                         NaN    NaN   \n",
       "2860  ERGO Versicherung Christian Aner          Normannenstraße 3   10367   \n",
       "\n",
       "               city landesvorwahl    telefonnr anrede vorname        nachname  \n",
       "1334      Paderborn            49  17670975872    NaN     NaN             NaN  \n",
       "2304      Paderborn            49  52511438283    NaN     NaN             NaN  \n",
       "465   Bad Salzungen            49   3695853779    NaN     NaN             NaN  \n",
       "667       Hitzkirch            41    419112050    NaN     NaN             NaN  \n",
       "3582          Hanau            49   1628504560   Herr   Abdul  Kader Al Hamdo  \n",
       "1895       Extertal            49   5262993325    NaN     NaN             NaN  \n",
       "2860         Berlin            49   3030343411    NaN     NaN             NaN  "
      ]
     },
     "execution_count": 24,
     "metadata": {},
     "output_type": "execute_result"
    }
   ],
   "source": [
    "data_mix.sample(7, random_state = 43)"
   ]
  },
  {
   "cell_type": "code",
   "execution_count": 25,
   "id": "445e7f21-caa0-405c-b0dc-bade51b47235",
   "metadata": {},
   "outputs": [
    {
     "data": {
      "text/plain": [
       "(3618, 9)"
      ]
     },
     "execution_count": 25,
     "metadata": {},
     "output_type": "execute_result"
    }
   ],
   "source": [
    "data_mix.shape"
   ]
  },
  {
   "cell_type": "code",
   "execution_count": 26,
   "id": "d23fcac4-6594-4151-86d9-2bf084276f5c",
   "metadata": {},
   "outputs": [
    {
     "name": "stdout",
     "output_type": "stream",
     "text": [
      "<class 'pandas.core.frame.DataFrame'>\n",
      "RangeIndex: 3618 entries, 0 to 3617\n",
      "Data columns (total 9 columns):\n",
      " #   Column         Non-Null Count  Dtype \n",
      "---  ------         --------------  ----- \n",
      " 0   firma          3072 non-null   object\n",
      " 1   street         3025 non-null   object\n",
      " 2   plz            3062 non-null   object\n",
      " 3   city           3026 non-null   object\n",
      " 4   landesvorwahl  3617 non-null   object\n",
      " 5   telefonnr      3581 non-null   object\n",
      " 6   anrede         354 non-null    object\n",
      " 7   vorname        468 non-null    object\n",
      " 8   nachname       395 non-null    object\n",
      "dtypes: object(9)\n",
      "memory usage: 254.5+ KB\n"
     ]
    }
   ],
   "source": [
    "data_mix.info()"
   ]
  },
  {
   "cell_type": "code",
   "execution_count": 27,
   "id": "1be8980f-cd0e-462f-82d0-93eb19cf65ef",
   "metadata": {},
   "outputs": [
    {
     "data": {
      "text/plain": [
       "firma             546\n",
       "street            593\n",
       "plz               556\n",
       "city              592\n",
       "landesvorwahl       1\n",
       "telefonnr          37\n",
       "anrede           3264\n",
       "vorname          3150\n",
       "nachname         3223\n",
       "dtype: int64"
      ]
     },
     "execution_count": 27,
     "metadata": {},
     "output_type": "execute_result"
    }
   ],
   "source": [
    "data_mix.isna().sum()"
   ]
  },
  {
   "cell_type": "code",
   "execution_count": 28,
   "id": "7a8ac93e-0fdb-4130-afb8-673a3cc5cc1b",
   "metadata": {},
   "outputs": [],
   "source": [
    "# Change 'landesvorwahl','telefonnr','anrede','vorname', 'nachname' column names\n",
    "new_column_names = {'landesvorwahl':'country code','telefonnr':'telefon','anrede':'salutation','vorname':'first name','nachname':'surname'}\n",
    "\n",
    "data_mix.rename(columns = new_column_names, inplace = True)"
   ]
  },
  {
   "cell_type": "code",
   "execution_count": 29,
   "id": "9473df26-d907-4825-9939-167da0e4603f",
   "metadata": {},
   "outputs": [
    {
     "data": {
      "text/plain": [
       "country code\n",
       "49    3429\n",
       "41     114\n",
       "43      70\n",
       "39       1\n",
       "12       1\n",
       "44       1\n",
       "4        1\n",
       "Name: count, dtype: int64"
      ]
     },
     "execution_count": 29,
     "metadata": {},
     "output_type": "execute_result"
    }
   ],
   "source": [
    "data_mix['country code'].value_counts()"
   ]
  },
  {
   "cell_type": "markdown",
   "id": "17f7fe33-455b-43d4-9d2b-068ada689aa1",
   "metadata": {},
   "source": [
    "#### Creating \"country code\" column in mixed data (like e.g 0049)"
   ]
  },
  {
   "cell_type": "code",
   "execution_count": 30,
   "id": "346a7e91-8e29-4bf9-bce1-e57122e16f39",
   "metadata": {},
   "outputs": [],
   "source": [
    "# The code adds '00' to the all values except they already starts with '00' or are missing\n",
    "data_mix['country code'] = data_mix['country code'].apply(lambda x: '00' + str(x) if pd.notna(x) and not str(x).startswith('00') else x)"
   ]
  },
  {
   "cell_type": "markdown",
   "id": "c0f9f1f4-5ae2-4b9e-bb79-e3a8c3281ace",
   "metadata": {},
   "source": [
    "[Note] The code above will add double zero to the front of each value, if they already do not start with '00' and not NA"
   ]
  },
  {
   "cell_type": "code",
   "execution_count": 31,
   "id": "2e27383b-a08b-4bfc-8715-3f059e742ee5",
   "metadata": {},
   "outputs": [
    {
     "data": {
      "text/plain": [
       "array(['0049', '0041', '0043', '0039', '0012', '0044', nan, '004'],\n",
       "      dtype=object)"
      ]
     },
     "execution_count": 31,
     "metadata": {},
     "output_type": "execute_result"
    }
   ],
   "source": [
    "data_mix['country code'].unique()"
   ]
  },
  {
   "cell_type": "markdown",
   "id": "c8711131-3a8c-4771-9115-5eac29c4b236",
   "metadata": {},
   "source": [
    "<span style = \"color:red\"> [Note] The country codes with values '0012', '004', and NA need to futher investigation since they are invalid </span>"
   ]
  },
  {
   "cell_type": "code",
   "execution_count": 32,
   "id": "f0ed5de2-813c-4d31-803d-0651cc808ccd",
   "metadata": {},
   "outputs": [
    {
     "data": {
      "text/html": [
       "<div>\n",
       "<style scoped>\n",
       "    .dataframe tbody tr th:only-of-type {\n",
       "        vertical-align: middle;\n",
       "    }\n",
       "\n",
       "    .dataframe tbody tr th {\n",
       "        vertical-align: top;\n",
       "    }\n",
       "\n",
       "    .dataframe thead th {\n",
       "        text-align: right;\n",
       "    }\n",
       "</style>\n",
       "<table border=\"1\" class=\"dataframe\">\n",
       "  <thead>\n",
       "    <tr style=\"text-align: right;\">\n",
       "      <th></th>\n",
       "      <th>firma</th>\n",
       "      <th>street</th>\n",
       "      <th>plz</th>\n",
       "      <th>city</th>\n",
       "      <th>country code</th>\n",
       "      <th>telefon</th>\n",
       "      <th>salutation</th>\n",
       "      <th>first name</th>\n",
       "      <th>surname</th>\n",
       "    </tr>\n",
       "  </thead>\n",
       "  <tbody>\n",
       "    <tr>\n",
       "      <th>655</th>\n",
       "      <td>BLUME2000 im Famila Bad Segeberg</td>\n",
       "      <td>Eutiner Straße 45</td>\n",
       "      <td>23795</td>\n",
       "      <td>Klein Rönnau</td>\n",
       "      <td>0012</td>\n",
       "      <td>623301212</td>\n",
       "      <td>NaN</td>\n",
       "      <td>NaN</td>\n",
       "      <td>NaN</td>\n",
       "    </tr>\n",
       "    <tr>\n",
       "      <th>741</th>\n",
       "      <td>NaN</td>\n",
       "      <td>NaN</td>\n",
       "      <td>31</td>\n",
       "      <td>NaN</td>\n",
       "      <td>NaN</td>\n",
       "      <td>455281144</td>\n",
       "      <td>NaN</td>\n",
       "      <td>NaN</td>\n",
       "      <td>NaN</td>\n",
       "    </tr>\n",
       "    <tr>\n",
       "      <th>871</th>\n",
       "      <td>NaN</td>\n",
       "      <td>NaN</td>\n",
       "      <td>NaN</td>\n",
       "      <td>NaN</td>\n",
       "      <td>004</td>\n",
       "      <td>22897479018</td>\n",
       "      <td>NaN</td>\n",
       "      <td>NaN</td>\n",
       "      <td>NaN</td>\n",
       "    </tr>\n",
       "  </tbody>\n",
       "</table>\n",
       "</div>"
      ],
      "text/plain": [
       "                                firma             street    plz          city  \\\n",
       "655  BLUME2000 im Famila Bad Segeberg  Eutiner Straße 45  23795  Klein Rönnau   \n",
       "741                               NaN                NaN     31           NaN   \n",
       "871                               NaN                NaN    NaN           NaN   \n",
       "\n",
       "    country code      telefon salutation first name surname  \n",
       "655         0012    623301212        NaN        NaN     NaN  \n",
       "741          NaN    455281144        NaN        NaN     NaN  \n",
       "871          004  22897479018        NaN        NaN     NaN  "
      ]
     },
     "execution_count": 32,
     "metadata": {},
     "output_type": "execute_result"
    }
   ],
   "source": [
    "# Filter rows where 'country code' is NaN, '004', or '0012'\n",
    "invalid_rows = data_mix[data_mix['country code'].isna() | \n",
    "                         data_mix['country code'].isin(['004', '0012'])]\n",
    "\n",
    "# Display the filtered rows\n",
    "invalid_rows"
   ]
  },
  {
   "cell_type": "markdown",
   "id": "acac1249-f49f-441d-9e4a-e242e2c1391a",
   "metadata": {},
   "source": [
    "<span style = \"color:red; font-size:16px\" > [Note] The data can be corrected manually in row 655, by using the city. However the rows 741 and 871 will be kept as Bad Data. Klein Rönnau is located in Germany, thus the respective country code will be added  </span>"
   ]
  },
  {
   "cell_type": "code",
   "execution_count": 33,
   "id": "963f631c-dad9-41e9-a0f3-d8e4669c378a",
   "metadata": {},
   "outputs": [],
   "source": [
    "# Replacing country code with '0049' where city is 'Klein Rönnau'\n",
    "data_mix.loc[data_mix['city'] == 'Klein Rönnau', 'country code'] = '0049'"
   ]
  },
  {
   "cell_type": "code",
   "execution_count": 34,
   "id": "ef67c5fe-a506-4e96-8b71-fe4972812664",
   "metadata": {},
   "outputs": [],
   "source": [
    "# Add a flag column to data_mix\n",
    "data_mix['flag'] = np.where(\n",
    "    data_mix['country code'].isin(['004', '0012']) | data_mix['country code'].isna(),\n",
    "    'bad data',\n",
    "    ''  # Default value if the condition is not met\n",
    ")"
   ]
  },
  {
   "cell_type": "markdown",
   "id": "341a0a42-9ae7-4a1d-ac9d-9acac3b11265",
   "metadata": {},
   "source": [
    "<span style = \"color:blue\" >[Note] the \"flag\" column is generated and will be used to differentiate \"bad\" and \"valid\" data. For example, if there is unrecoverable or missing data in phone number column, then for those rows the column gets the value of \"bad data\" </span>"
   ]
  },
  {
   "cell_type": "markdown",
   "id": "de45468a-d929-45d5-ab60-9a9777e24554",
   "metadata": {},
   "source": [
    "#### Creating Country column"
   ]
  },
  {
   "cell_type": "markdown",
   "id": "b760d11f-1f17-4ed0-b6b6-cb3e07086be3",
   "metadata": {},
   "source": [
    "The country code was missing in data_mix, so based on country codes they are mapped"
   ]
  },
  {
   "cell_type": "code",
   "execution_count": 35,
   "id": "3c6c9ca2-f8d4-4d33-b942-2c4768e61594",
   "metadata": {},
   "outputs": [],
   "source": [
    "# Define mapping from country code to country\n",
    "country_mapping = {\n",
    "    '0049': 'DE',\n",
    "    '0041': 'CH',\n",
    "    '0043': 'AT',\n",
    "    '0039': 'IT',\n",
    "    '0044': 'GB'\n",
    "}"
   ]
  },
  {
   "cell_type": "code",
   "execution_count": 36,
   "id": "7bfb0a75-0bdc-4fec-bafb-5060bb013a65",
   "metadata": {},
   "outputs": [],
   "source": [
    "# Function to map country codes to countries\n",
    "def map_country(code):\n",
    "    ''' Map country code to country name '''\n",
    "    return country_mapping.get(code, np.nan)  # Return NaN for invalid or missing codes"
   ]
  },
  {
   "cell_type": "code",
   "execution_count": 37,
   "id": "4c3bb484-a6e1-43ff-b56b-d9c823ab2ea9",
   "metadata": {},
   "outputs": [],
   "source": [
    "# Add the country column\n",
    "data_mix['country'] = data_mix['country code'].apply(map_country)"
   ]
  },
  {
   "cell_type": "code",
   "execution_count": 38,
   "id": "da7b4c99-53a2-4d8d-b327-0e9af87ed135",
   "metadata": {},
   "outputs": [
    {
     "data": {
      "text/plain": [
       "2"
      ]
     },
     "execution_count": 38,
     "metadata": {},
     "output_type": "execute_result"
    }
   ],
   "source": [
    "data_mix['country'].isna().sum()"
   ]
  },
  {
   "cell_type": "markdown",
   "id": "0f816a78-69b5-4251-9b22-390e5f4dd5a6",
   "metadata": {},
   "source": [
    "## Merging all 4 dataframes"
   ]
  },
  {
   "cell_type": "code",
   "execution_count": 39,
   "id": "8b12c998-bd5e-4a3d-9d38-9e9fe98f62c0",
   "metadata": {},
   "outputs": [
    {
     "data": {
      "text/html": [
       "<div>\n",
       "<style scoped>\n",
       "    .dataframe tbody tr th:only-of-type {\n",
       "        vertical-align: middle;\n",
       "    }\n",
       "\n",
       "    .dataframe tbody tr th {\n",
       "        vertical-align: top;\n",
       "    }\n",
       "\n",
       "    .dataframe thead th {\n",
       "        text-align: right;\n",
       "    }\n",
       "</style>\n",
       "<table border=\"1\" class=\"dataframe\">\n",
       "  <thead>\n",
       "    <tr style=\"text-align: right;\">\n",
       "      <th></th>\n",
       "      <th>firma</th>\n",
       "      <th>street</th>\n",
       "      <th>plz</th>\n",
       "      <th>city</th>\n",
       "      <th>country</th>\n",
       "      <th>telefon</th>\n",
       "      <th>country code</th>\n",
       "      <th>salutation</th>\n",
       "      <th>first name</th>\n",
       "      <th>surname</th>\n",
       "      <th>flag</th>\n",
       "    </tr>\n",
       "  </thead>\n",
       "  <tbody>\n",
       "    <tr>\n",
       "      <th>997</th>\n",
       "      <td>Pohl Johann, Architekt - Ingenieur - Baumeister</td>\n",
       "      <td>Gewerbestraße 2a</td>\n",
       "      <td>6430</td>\n",
       "      <td>Ötztal-Bahnhof</td>\n",
       "      <td>AT</td>\n",
       "      <td>00436993772837</td>\n",
       "      <td>NaN</td>\n",
       "      <td>NaN</td>\n",
       "      <td>NaN</td>\n",
       "      <td>NaN</td>\n",
       "      <td>NaN</td>\n",
       "    </tr>\n",
       "    <tr>\n",
       "      <th>2338</th>\n",
       "      <td>Kai Murek Photographie</td>\n",
       "      <td>Margaretenhof 10-12</td>\n",
       "      <td>45888</td>\n",
       "      <td>Gelsenkirchen</td>\n",
       "      <td>DE</td>\n",
       "      <td>15752381270</td>\n",
       "      <td>0049</td>\n",
       "      <td>NaN</td>\n",
       "      <td>Kai Murek</td>\n",
       "      <td>NaN</td>\n",
       "      <td></td>\n",
       "    </tr>\n",
       "    <tr>\n",
       "      <th>2783</th>\n",
       "      <td>Lale Tour</td>\n",
       "      <td>Bahnhofstr.20</td>\n",
       "      <td>74366</td>\n",
       "      <td>Kirchheim am Neckar</td>\n",
       "      <td>DE</td>\n",
       "      <td>71439692727</td>\n",
       "      <td>0049</td>\n",
       "      <td>NaN</td>\n",
       "      <td>NaN</td>\n",
       "      <td>NaN</td>\n",
       "      <td></td>\n",
       "    </tr>\n",
       "    <tr>\n",
       "      <th>4612</th>\n",
       "      <td>A &amp; P Modevertriebs GmbH</td>\n",
       "      <td>Fasanenweg 57</td>\n",
       "      <td>15711</td>\n",
       "      <td>Königs Wusterhausen</td>\n",
       "      <td>DE</td>\n",
       "      <td>3375292930</td>\n",
       "      <td>0049</td>\n",
       "      <td>Frau</td>\n",
       "      <td>Anja</td>\n",
       "      <td>Wagner</td>\n",
       "      <td></td>\n",
       "    </tr>\n",
       "    <tr>\n",
       "      <th>3156</th>\n",
       "      <td>HDS GmbH Projekte im Bau</td>\n",
       "      <td>Hainstr. 105</td>\n",
       "      <td>9130</td>\n",
       "      <td>Chemnitz</td>\n",
       "      <td>DE</td>\n",
       "      <td>371431340</td>\n",
       "      <td>0049</td>\n",
       "      <td>NaN</td>\n",
       "      <td>NaN</td>\n",
       "      <td>NaN</td>\n",
       "      <td></td>\n",
       "    </tr>\n",
       "    <tr>\n",
       "      <th>1967</th>\n",
       "      <td>Mobile-Hundepflege.com</td>\n",
       "      <td>Am Weilerweg 14</td>\n",
       "      <td>64665</td>\n",
       "      <td>Alsbach-Hähnlein</td>\n",
       "      <td>DE</td>\n",
       "      <td>17642491934</td>\n",
       "      <td>0049</td>\n",
       "      <td>NaN</td>\n",
       "      <td>NaN</td>\n",
       "      <td>NaN</td>\n",
       "      <td></td>\n",
       "    </tr>\n",
       "    <tr>\n",
       "      <th>1561</th>\n",
       "      <td>NaN</td>\n",
       "      <td>NaN</td>\n",
       "      <td>NaN</td>\n",
       "      <td>NaN</td>\n",
       "      <td>DE</td>\n",
       "      <td>8954882664</td>\n",
       "      <td>0049</td>\n",
       "      <td>NaN</td>\n",
       "      <td>NaN</td>\n",
       "      <td>NaN</td>\n",
       "      <td></td>\n",
       "    </tr>\n",
       "  </tbody>\n",
       "</table>\n",
       "</div>"
      ],
      "text/plain": [
       "                                                firma                 street  \\\n",
       "997   Pohl Johann, Architekt - Ingenieur - Baumeister       Gewerbestraße 2a   \n",
       "2338                           Kai Murek Photographie  Margaretenhof 10-12     \n",
       "2783                                        Lale Tour         Bahnhofstr.20    \n",
       "4612                         A & P Modevertriebs GmbH         Fasanenweg 57    \n",
       "3156                         HDS GmbH Projekte im Bau          Hainstr. 105    \n",
       "1967                           Mobile-Hundepflege.com        Am Weilerweg 14   \n",
       "1561                                              NaN                    NaN   \n",
       "\n",
       "        plz                 city country         telefon country code  \\\n",
       "997    6430       Ötztal-Bahnhof      AT  00436993772837          NaN   \n",
       "2338  45888        Gelsenkirchen      DE     15752381270         0049   \n",
       "2783  74366  Kirchheim am Neckar      DE     71439692727         0049   \n",
       "4612  15711  Königs Wusterhausen      DE      3375292930         0049   \n",
       "3156   9130             Chemnitz      DE       371431340         0049   \n",
       "1967  64665     Alsbach-Hähnlein      DE     17642491934         0049   \n",
       "1561    NaN                  NaN      DE      8954882664         0049   \n",
       "\n",
       "     salutation first name surname flag  \n",
       "997         NaN        NaN     NaN  NaN  \n",
       "2338        NaN  Kai Murek     NaN       \n",
       "2783        NaN        NaN     NaN       \n",
       "4612       Frau       Anja  Wagner       \n",
       "3156        NaN        NaN     NaN       \n",
       "1967        NaN        NaN     NaN       \n",
       "1561        NaN        NaN     NaN       "
      ]
     },
     "execution_count": 39,
     "metadata": {},
     "output_type": "execute_result"
    }
   ],
   "source": [
    "# Outer joining all 4 dataframes based on 'country', 'firma', 'street', 'plz', 'city', and 'telefon' columns\n",
    "merge_on_columns = ['country', 'firma', 'street', 'plz', 'city', 'telefon']\n",
    "\n",
    "merged_data = data_de.merge(data_at, on=merge_on_columns, how='outer') \\\n",
    "                       .merge(data_ch, on=merge_on_columns, how='outer') \\\n",
    "                       .merge(data_mix, on=merge_on_columns, how='outer')\n",
    "\n",
    "merged_data.sample(7, random_state = 43)"
   ]
  },
  {
   "cell_type": "code",
   "execution_count": 40,
   "id": "156a55d0-88cc-4d5d-a72f-31dfc006f466",
   "metadata": {},
   "outputs": [
    {
     "data": {
      "text/plain": [
       "country code\n",
       "0049    3430\n",
       "0041     114\n",
       "0043      70\n",
       "0039       1\n",
       "0044       1\n",
       "004        1\n",
       "Name: count, dtype: int64"
      ]
     },
     "execution_count": 40,
     "metadata": {},
     "output_type": "execute_result"
    }
   ],
   "source": [
    "merged_data['country code'].value_counts()"
   ]
  },
  {
   "cell_type": "markdown",
   "id": "aafad6eb-0b03-4aeb-9654-bfd27eef6a90",
   "metadata": {},
   "source": [
    "## Data Pre-Processing for the Merged Dataframe"
   ]
  },
  {
   "cell_type": "markdown",
   "id": "3648522b-168e-4b91-8043-888dd53ba306",
   "metadata": {},
   "source": [
    "The data for DE, CH, and AT was missing country codes (opposite of mixed countries data) which are generated based of country names"
   ]
  },
  {
   "cell_type": "code",
   "execution_count": 41,
   "id": "3481b5d7-ccd9-4827-a78d-ecb43d93209d",
   "metadata": {},
   "outputs": [],
   "source": [
    "# Define mapping from country code to country\n",
    "country_mapping = {\n",
    "    'DE': '0049',\n",
    "    'CH': '0041',\n",
    "    'AT': '0043',\n",
    "    'IT': '0039',\n",
    "    'GB': '0044'\n",
    "}"
   ]
  },
  {
   "cell_type": "code",
   "execution_count": 42,
   "id": "c80e30ad-d98b-4ba0-8199-caba55a34238",
   "metadata": {},
   "outputs": [],
   "source": [
    "# Function to map country codes to countries\n",
    "def map_country(country):\n",
    "    ''' Map country to country code '''\n",
    "    return country_mapping.get(country, np.nan)  # Return NaN for invalid or missing codes"
   ]
  },
  {
   "cell_type": "code",
   "execution_count": 43,
   "id": "89d79419-baf6-4760-b079-9a40c816055d",
   "metadata": {},
   "outputs": [],
   "source": [
    "# Map values to country code column\n",
    "merged_data['country code'] = merged_data['country'].apply(map_country)"
   ]
  },
  {
   "cell_type": "markdown",
   "id": "8d626630-746d-4217-9eaf-df05cca53211",
   "metadata": {},
   "source": [
    "### The Custom function to ***clean phone number*** is applied to merged data"
   ]
  },
  {
   "cell_type": "code",
   "execution_count": 44,
   "id": "61cfe54e-ff01-4639-a5b2-7524df295d1f",
   "metadata": {},
   "outputs": [],
   "source": [
    "# Apply cleaning function \n",
    "merged_data['cleaned phone number'] = merged_data.apply(clean_phone_number, axis=1)"
   ]
  },
  {
   "cell_type": "markdown",
   "id": "d216cc7d-d6fb-4015-ab2f-96b3428382bf",
   "metadata": {},
   "source": [
    "If you would like to use my custom validation code (as outlined at the beginning), please follow these steps:\n",
    "\n",
    "1. Change the cell for the validate_phone_length function at the start of this file from raw to code, then run it.\n",
    "2. Change the cell containing the validate_phone_number function at the beginning from code back to raw.\n",
    "3. Comment out the line where the validate_phone_number function is applied to the \"flag\" column below.\n",
    "4. Uncomment the code line located below this cell."
   ]
  },
  {
   "cell_type": "code",
   "execution_count": 45,
   "id": "909c0af0-37fa-46c2-933c-58088ef26d61",
   "metadata": {},
   "outputs": [],
   "source": [
    "#merged_data['flag'] = merged_data.apply(validate_phone_length, axis=1) "
   ]
  },
  {
   "cell_type": "code",
   "execution_count": 46,
   "id": "3b70d700-6a0e-4795-a9a9-b4cbbda7caef",
   "metadata": {},
   "outputs": [],
   "source": [
    "# apply validation function to the dataframe\n",
    "merged_data['flag'] = merged_data.apply(validate_phone_number, axis=1)"
   ]
  },
  {
   "cell_type": "code",
   "execution_count": 47,
   "id": "57267d04-9b72-41ff-a55c-a6e12b18d6f9",
   "metadata": {},
   "outputs": [
    {
     "data": {
      "text/plain": [
       "flag\n",
       "valid       4374\n",
       "bad data     401\n",
       "Name: count, dtype: int64"
      ]
     },
     "execution_count": 47,
     "metadata": {},
     "output_type": "execute_result"
    }
   ],
   "source": [
    "merged_data['flag'].value_counts()"
   ]
  },
  {
   "cell_type": "markdown",
   "id": "cd6b4b5d-67ff-46cd-88bc-d8b37360d5b7",
   "metadata": {},
   "source": [
    "### Creating \"digit length\" Column"
   ]
  },
  {
   "cell_type": "code",
   "execution_count": 48,
   "id": "510979a6-1675-49a1-be23-bc4d9c955754",
   "metadata": {},
   "outputs": [],
   "source": [
    "# Calculate the lengths of cleaned_phone\n",
    "merged_data['digit length'] = merged_data['cleaned phone number'].str.len()"
   ]
  },
  {
   "cell_type": "markdown",
   "id": "8c2403bd-5e78-40f2-a998-69cfb8e42a43",
   "metadata": {},
   "source": [
    "<span style = \"color:red\" > [Note] The column is created based on the number of digits in \"cleaned phone number\" column in order to have more insights </span>"
   ]
  },
  {
   "cell_type": "markdown",
   "id": "005aefd4-1cc8-41d9-b007-02c24775afff",
   "metadata": {},
   "source": [
    "### Cleaning duplicated values from necessary columns"
   ]
  },
  {
   "cell_type": "code",
   "execution_count": 49,
   "id": "2c486ee9-95d2-49f8-b859-2b3e7325f8c3",
   "metadata": {},
   "outputs": [
    {
     "name": "stdout",
     "output_type": "stream",
     "text": [
      "firma - 669 duplicates \n",
      "street - 639 duplicates \n",
      "plz - 2043 duplicates \n",
      "city - 2850 duplicates \n",
      "country - 4769 duplicates \n",
      "telefon - 95 duplicates \n",
      "country code - 4769 duplicates \n",
      "salutation - 4767 duplicates \n",
      "first name - 4394 duplicates \n",
      "surname - 4395 duplicates \n",
      "flag - 4773 duplicates \n",
      "cleaned phone number - 95 duplicates \n",
      "digit length - 4751 duplicates \n"
     ]
    }
   ],
   "source": [
    "# creating list of all columns in the dataframe\n",
    "columns = merged_data.columns.tolist()\n",
    "\n",
    "# for each column the sum of duplicates\n",
    "for col in columns:\n",
    "    duplicates = merged_data[col].duplicated().sum()\n",
    "    print(f\"{col} - {duplicates} duplicates \")"
   ]
  },
  {
   "cell_type": "markdown",
   "id": "a9cdb763-dc6c-4dcc-8307-5f05cbbfd985",
   "metadata": {},
   "source": [
    "***To ensure data integrity, we must first remove any duplicate entries in the \"firma\" column across the DE, CH, AT, and Mix sheets. However, since it is possible for different companies to share the same country, city, and country code, we will not remove duplicates from these columns. This approach allows us to maintain relevant data without losing important distinctions between companies operating in the same locations.***"
   ]
  },
  {
   "cell_type": "code",
   "execution_count": 50,
   "id": "c8905947-b929-4816-9cc0-5d53b42669f4",
   "metadata": {},
   "outputs": [],
   "source": [
    "# Remove duplicates from the 'firma' column and reset the index\n",
    "merged_data_cleaned = merged_data.drop_duplicates(subset=['firma']).reset_index(drop=True)"
   ]
  },
  {
   "cell_type": "markdown",
   "id": "b37beeff-02f6-4bd2-9bc7-f6d6793b14aa",
   "metadata": {},
   "source": [
    "***Duplicates in the phone number column can be considered \"bad data\" because they may lead to confusion and inefficiencies in data processing. Typically, each unique business should have a distinct phone number to facilitate accurate communication. However, there are instances where different companies might share the same phone number, particularly in certain sectors like shared offices or co-working spaces.***\n",
    "\n",
    "***To ensure data integrity, we will mark these duplicate phone number entries as \"bad data\" in the flag column for further analysis. This will help us to identify and address potential inconsistencies while also allowing us to distinguish between legitimate duplicates and errors in our dataset. By doing so, we can refine our data quality and improve the overall accuracy of our analysis.***"
   ]
  },
  {
   "cell_type": "code",
   "execution_count": 51,
   "id": "56ac91c5-dfb7-42c3-aa92-4e255a2a2a92",
   "metadata": {},
   "outputs": [],
   "source": [
    "# Update the 'flag' column for duplicates in the 'cleaned phone number' column\n",
    "merged_data_cleaned.loc[merged_data_cleaned['cleaned phone number'].duplicated(keep=False), 'flag'] = 'bad data'"
   ]
  },
  {
   "cell_type": "markdown",
   "id": "0155c89c-6cf6-4ffb-95af-3126a68b403e",
   "metadata": {},
   "source": [
    "***The following assumption states that to effectively contact businesses, it is essential to have at least the following information: the company name (firma), the country in which it operates, the country code, and the phone number. If all of these critical values are simultaneously missing, we will categorize this data as \"bad\" or \"unrecoverable\" in the flag column. The code provided below is designed to verify this assumption.***"
   ]
  },
  {
   "cell_type": "code",
   "execution_count": 52,
   "id": "de04ad30-3ab4-4e63-b7b3-7ef21a362454",
   "metadata": {},
   "outputs": [
    {
     "name": "stdout",
     "output_type": "stream",
     "text": [
      "Empty DataFrame\n",
      "Columns: [firma, street, plz, city, country, telefon, country code, salutation, first name, surname, flag, cleaned phone number, digit length]\n",
      "Index: []\n"
     ]
    }
   ],
   "source": [
    "# Show rows where 'firma', 'cleaned_phone', and 'country_code' are all missing\n",
    "missing_data = merged_data_cleaned[merged_data_cleaned[['firma', 'country code', 'country', 'cleaned phone number']].isnull().all(axis=1)]\n",
    "\n",
    "# Display the result\n",
    "print(missing_data)"
   ]
  },
  {
   "cell_type": "markdown",
   "id": "13bdec2d-ebd7-4928-a704-6143bd0bcc5d",
   "metadata": {},
   "source": [
    "<span style = \"color:red\" >[Note] The results indicate that the simultaneous absence of the firma name, country, country code, and phone number does not occur. </span>"
   ]
  },
  {
   "cell_type": "markdown",
   "id": "af1c4a9e-2340-4479-adf8-c08164b6ff3b",
   "metadata": {},
   "source": [
    "***The next assumption is that, despite the significant number of missing values in the salutation, first name, and last name columns, these omissions do not hinder our ability to contact the businesses. Therefore, instead of removing rows with missing data in these fields, we will replace any empty values in the salutation, first name, and last name columns with the phrase \"No data.\" This approach allows us to retain all records while providing a clear indication of missing information.***"
   ]
  },
  {
   "cell_type": "code",
   "execution_count": 53,
   "id": "2d8f1b68-35e5-4fa6-a561-43d07dea7362",
   "metadata": {},
   "outputs": [],
   "source": [
    "# Replace missing values with 'No data' in specified columns using .loc\n",
    "merged_data_cleaned.loc[:, ['first name', 'surname', 'salutation']] = merged_data_cleaned[['first name', 'surname', 'salutation']].fillna('No data')"
   ]
  },
  {
   "cell_type": "code",
   "execution_count": 54,
   "id": "02e8c7d1-93fa-496d-b46e-7dbaab678f1a",
   "metadata": {},
   "outputs": [
    {
     "data": {
      "text/plain": [
       "flag\n",
       "valid       3724\n",
       "bad data     382\n",
       "Name: count, dtype: int64"
      ]
     },
     "execution_count": 54,
     "metadata": {},
     "output_type": "execute_result"
    }
   ],
   "source": [
    "merged_data_cleaned['flag'].value_counts()"
   ]
  },
  {
   "cell_type": "markdown",
   "id": "63460b2e-2a0b-4cd4-82cb-15e8078390b7",
   "metadata": {},
   "source": [
    "***The company names in the 'firma' column are checked for validity by analyzing the string lengths of their values. This process involves calculating the length of each string in the column and displaying the top 15 entries with the shortest string lengths in ascending order. This helps identify any potential anomalies or unusually short entries in the data.***\n",
    "\n",
    "***If anomalies are found in the string lengths of the 'firma' column and address data is missing for those entries at the same time, such data will be flagged as \"bad data\" in the flag column for further review.***"
   ]
  },
  {
   "cell_type": "code",
   "execution_count": 55,
   "id": "a7ca4d43-6426-4e63-a993-f34c8a4c8ac5",
   "metadata": {},
   "outputs": [
    {
     "name": "stdout",
     "output_type": "stream",
     "text": [
      "      firma  firma length                      street   flag\n",
      "1433      L             1                         NaN  valid\n",
      "1681      t             1                         NaN  valid\n",
      "3239     NN             2              Sulzerring 24   valid\n",
      "1813    MÔC             3             Grafenstraße 20  valid\n",
      "1848    LBS             3                         NaN  valid\n",
      "1924    Eni             3                         NaN  valid\n",
      "3177   Wiko             4          Elisenhofstraße 5   valid\n",
      "3316   Home             4          Paul-Klee-Str. 34   valid\n",
      "3287   Jahn             4                Weidestr. 6   valid\n",
      "2576   Büro             4        Rothäuserbergweg 12   valid\n",
      "1764   rosi             4              Weberstraße 18  valid\n",
      "1744   Café             4      Heddesdorfer Straße 33  valid\n",
      "2978  Ravel             5              Ludwigstr. 91   valid\n",
      "2557  KONAK             5        Hamburger Straße 10   valid\n",
      "3730  Härer             5  Wilhelm-Bahmüller-Str. 59   valid\n"
     ]
    }
   ],
   "source": [
    "# Calculating the length of values in the 'firma' column\n",
    "merged_data_cleaned['firma length'] = merged_data_cleaned['firma'].str.len()\n",
    "\n",
    "# Sorting the DataFrame by the length of 'firma' in ascending order and select the top 15\n",
    "top_15_firma_lengths = merged_data_cleaned[['firma', 'firma length', 'street', 'flag']].sort_values(by='firma length').head(15)\n",
    "\n",
    "# Display the result\n",
    "print(top_15_firma_lengths)"
   ]
  },
  {
   "cell_type": "markdown",
   "id": "90743d97-bd30-4078-b129-11b67a5c663c",
   "metadata": {},
   "source": [
    "<span style = \"color:red;font-size:14px\" > As shown in the results, the first two entries in the 'firma' column contain only a single letter, and both are missing corresponding address information. This makes it difficult to identify or locate these businesses, presenting a challenge for contacting them. Consequently, these entries will be labeled as \"bad data\" in the flag column for further analysis.</span>"
   ]
  },
  {
   "cell_type": "code",
   "execution_count": 56,
   "id": "658d68af-7cbb-4287-8d20-0065545794e4",
   "metadata": {},
   "outputs": [],
   "source": [
    "# Update the 'flag' column where 'firma' length is less than 3 and 'street' is NaN\n",
    "merged_data_cleaned.loc[\n",
    "    (merged_data_cleaned['firma'].str.len() < 3) & \n",
    "    (merged_data_cleaned['street'].isna()), \n",
    "    'flag'\n",
    "] = 'bad data'"
   ]
  },
  {
   "cell_type": "markdown",
   "id": "b7139e04-06c8-4849-90d8-0d1d555dcc81",
   "metadata": {},
   "source": [
    "***Reording the column names to improve readability and streamline data analysis***"
   ]
  },
  {
   "cell_type": "code",
   "execution_count": 57,
   "id": "ee111283-47dc-4c82-a40f-bee98e437f72",
   "metadata": {},
   "outputs": [],
   "source": [
    "# Define column name order\n",
    "new_column_order = [\n",
    "    'firma', 'street', 'plz', 'city', 'telefon', \n",
    "    'country', 'country code', 'cleaned phone number', \n",
    "    'flag', 'salutation', 'first name', 'surname', \n",
    "    'digit length', 'firma length'\n",
    "]\n",
    "\n",
    "# Reorder the columns\n",
    "merged_data_cleaned = merged_data_cleaned[new_column_order]"
   ]
  },
  {
   "cell_type": "markdown",
   "id": "874bce24-c8e3-4054-bb48-7b888edfa187",
   "metadata": {},
   "source": [
    "## Creating Bad and Clean Data"
   ]
  },
  {
   "cell_type": "markdown",
   "id": "07f5efef-1bf2-4602-89ad-5cea610b0b5d",
   "metadata": {},
   "source": [
    "Based on the entries in the 'flag' column, two distinct datasets are created. Rows marked as 'bad data' are transferred to the bad_data dataset, while those flagged as 'valid' are moved to the clean_data dataset. This allows for a clear separation of invalid or problematic records from the clean, usable data for further processing."
   ]
  },
  {
   "cell_type": "code",
   "execution_count": 58,
   "id": "66c897ef-a0ce-4818-b77c-981a11879883",
   "metadata": {},
   "outputs": [],
   "source": [
    "bad_data = merged_data_cleaned[merged_data_cleaned['flag'] == 'bad data']\n",
    "clean_data = merged_data_cleaned[merged_data_cleaned['flag'] == 'valid']"
   ]
  },
  {
   "cell_type": "markdown",
   "id": "a4b44253-c960-4f65-ac47-a220dc01a4ef",
   "metadata": {},
   "source": [
    "**This function adds unique_id columns to each DataFrame, ensuring each row has a unique identifier. These IDs are crucial during the database insertion process to prevent conflicts and facilitate the identification of individual records. By generating unique identifiers, we maintain data integrity and avoid duplication, ensuring that each record can be reliably referenced and managed within the database.**"
   ]
  },
  {
   "cell_type": "code",
   "execution_count": 59,
   "id": "5600188f-e4aa-4ae7-891d-7f64ff69c664",
   "metadata": {},
   "outputs": [],
   "source": [
    "# Function to add a sequential unique_id column\n",
    "def add_sequential_unique_id_column(df, prefix):\n",
    "    df['unique_id'] = [f\"{prefix}{i+1}\" for i in range(len(df))]\n",
    "    return df"
   ]
  },
  {
   "cell_type": "code",
   "execution_count": 60,
   "id": "431fc6cb-6e21-456c-853d-d10776b97d80",
   "metadata": {},
   "outputs": [],
   "source": [
    "# Adding unique_id to cleaned_data and bad_data\n",
    "clean_data = add_sequential_unique_id_column(clean_data, prefix='cleaned_')\n",
    "bad_data = add_sequential_unique_id_column(bad_data, prefix='bad_')"
   ]
  },
  {
   "cell_type": "markdown",
   "id": "b465458e-4125-48af-a1cd-cad8f0eae9fe",
   "metadata": {},
   "source": [
    "## Writing the both Bad and Clean dataframes into excel files"
   ]
  },
  {
   "cell_type": "code",
   "execution_count": 61,
   "id": "0f3fdfc1-00df-457e-9bcd-088921b16825",
   "metadata": {},
   "outputs": [],
   "source": [
    "# uncomment the codes if you need to write into excel file again\n",
    "\n",
    "# bad_data.to_excel('../Inputs/leads_in_review_data.xlsx', index=False)  # Write bad_data to an Excel file\n",
    "# clean_data.to_excel('../Inputs/leads_cleaned_data.xlsx', index=False)  # Write clean_data to a separate Excel file"
   ]
  },
  {
   "cell_type": "markdown",
   "id": "aacbadee-072d-4886-883f-aee82c386a2f",
   "metadata": {},
   "source": [
    "<span style = \"color:blue\" >[Note] It is also possible to employ a function that If the dataset is present in the location then evertime the code runs, it is written as _v2(version2),_v3 and so on. </span>"
   ]
  },
  {
   "cell_type": "markdown",
   "id": "985535d1-5356-462a-80bd-a5dbd53cc514",
   "metadata": {},
   "source": [
    "In conclusion, I successfully cleaned the merged dataset, focusing primarily on validating phone numbers using the Python 'phonenumbers' library. This process also involved addressing duplicated and missing values across the dataset. The cleaned dataset contains approximately 3,700 entries, with no missing values in key columns, while the review dataset holds around 380 entries, some of which still have missing values.\n",
    "\n",
    "I removed around 650 duplicate entries from the 'firma' column, significantly enhancing data quality. Additionally, I manually filled in the country code data where feasible. A flag column was introduced to distinguish between 'valid' and 'bad' data. After cleaning, I separated the datasets based on the flag values, saving the 'bad data' entries into leads_in_review_data.xlsx for further analysis and the 'valid' entries into leads_cleaned_data.xlsx."
   ]
  }
 ],
 "metadata": {
  "kernelspec": {
   "display_name": "Python 3 (ipykernel)",
   "language": "python",
   "name": "python3"
  },
  "language_info": {
   "codemirror_mode": {
    "name": "ipython",
    "version": 3
   },
   "file_extension": ".py",
   "mimetype": "text/x-python",
   "name": "python",
   "nbconvert_exporter": "python",
   "pygments_lexer": "ipython3",
   "version": "3.11.7"
  }
 },
 "nbformat": 4,
 "nbformat_minor": 5
}
